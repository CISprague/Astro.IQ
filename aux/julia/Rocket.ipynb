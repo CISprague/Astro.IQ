{
 "cells": [
  {
   "cell_type": "code",
   "execution_count": 1,
   "metadata": {
    "collapsed": false
   },
   "outputs": [],
   "source": [
    "using JuMP, Ipopt"
   ]
  },
  {
   "cell_type": "code",
   "execution_count": 2,
   "metadata": {
    "collapsed": false
   },
   "outputs": [
    {
     "data": {
      "text/latex": [
       "$$ m_{0} = 10000 $$"
      ],
      "text/plain": [
       "m[0] = 10000"
      ]
     },
     "execution_count": 2,
     "metadata": {},
     "output_type": "execute_result"
    }
   ],
   "source": [
    "mod = Model(solver=IpoptSolver(print_level=0, max_iter=30000))\n",
    "M = 500\n",
    "@variable(mod, Δt >= 0, start = 1/M)\n",
    "@NLexpression(mod, tf, Δt*M)\n",
    "@variable(mod, -1000 <= x[0:M] <= 1000)\n",
    "@variable(mod, 0 <= y[0:M] <= 1000)\n",
    "@variable(mod, -200 <= vx[0:M] <= 200)\n",
    "@variable(mod, -200 <= vy[0:M] <= 0)\n",
    "@variable(mod, 0 <= θ[0:M] <= 2*pi)\n",
    "@variable(mod, -4 <= ω[0:M] <= 4)\n",
    "@variable(mod, 0 <= m[0:M] <= 10000)\n",
    "\n",
    "@variable(mod, 0 <= u[0:M] <= 1)\n",
    "@variable(mod, -1 <= utx[0:M] <= 1)\n",
    "@variable(mod, -1 <= uty[0:M] <= 1)\n",
    "@objective(mod, Max, m[M])\n",
    "\n",
    "@constraint(mod, x[M] == 0)\n",
    "@constraint(mod, y[M] == 0)\n",
    "@constraint(mod, vx[M] == 0)\n",
    "@constraint(mod, vy[M] == 0)\n",
    "@constraint(mod, θ[M] == 0)\n",
    "@constraint(mod, ω[M] ==0);\n",
    "\n",
    "@constraint(mod, x[0] == 0)\n",
    "@constraint(mod, y[0] == 1000)\n",
    "@constraint(mod, vx[0] == 10)\n",
    "@constraint(mod, vy[0] == -5)\n",
    "@constraint(mod, θ[0] == 0)\n",
    "@constraint(mod, ω[0] == 0)\n",
    "@constraint(mod, m[0] == 10000)"
   ]
  },
  {
   "cell_type": "code",
   "execution_count": 3,
   "metadata": {
    "collapsed": false
   },
   "outputs": [],
   "source": [
    "c1 = 5886000*0.3\n",
    "c2 = 311*9.81\n",
    "c3 = 300\n",
    "g = 9.81;"
   ]
  },
  {
   "cell_type": "code",
   "execution_count": 4,
   "metadata": {
    "collapsed": false
   },
   "outputs": [
    {
     "data": {
      "text/plain": [
       "JuMP.JuMPArray{JuMP.NonlinearExpression,1,Tuple{UnitRange{Int64}}}(JuMP.NonlinearExpression[JuMP.NonlinearExpression(Maximization problem with:\n",
       " * 13 linear constraints\n",
       " * 5011 variables\n",
       "Solver is Ipopt,1505),JuMP.NonlinearExpression(Maximization problem with:\n",
       " * 13 linear constraints\n",
       " * 5011 variables\n",
       "Solver is Ipopt,1506),JuMP.NonlinearExpression(Maximization problem with:\n",
       " * 13 linear constraints\n",
       " * 5011 variables\n",
       "Solver is Ipopt,1507),JuMP.NonlinearExpression(Maximization problem with:\n",
       " * 13 linear constraints\n",
       " * 5011 variables\n",
       "Solver is Ipopt,1508),JuMP.NonlinearExpression(Maximization problem with:\n",
       " * 13 linear constraints\n",
       " * 5011 variables\n",
       "Solver is Ipopt,1509),JuMP.NonlinearExpression(Maximization problem with:\n",
       " * 13 linear constraints\n",
       " * 5011 variables\n",
       "Solver is Ipopt,1510),JuMP.NonlinearExpression(Maximization problem with:\n",
       " * 13 linear constraints\n",
       " * 5011 variables\n",
       "Solver is Ipopt,1511),JuMP.NonlinearExpression(Maximization problem with:\n",
       " * 13 linear constraints\n",
       " * 5011 variables\n",
       "Solver is Ipopt,1512),JuMP.NonlinearExpression(Maximization problem with:\n",
       " * 13 linear constraints\n",
       " * 5011 variables\n",
       "Solver is Ipopt,1513),JuMP.NonlinearExpression(Maximization problem with:\n",
       " * 13 linear constraints\n",
       " * 5011 variables\n",
       "Solver is Ipopt,1514)  …  JuMP.NonlinearExpression(Maximization problem with:\n",
       " * 13 linear constraints\n",
       " * 5011 variables\n",
       "Solver is Ipopt,1996),JuMP.NonlinearExpression(Maximization problem with:\n",
       " * 13 linear constraints\n",
       " * 5011 variables\n",
       "Solver is Ipopt,1997),JuMP.NonlinearExpression(Maximization problem with:\n",
       " * 13 linear constraints\n",
       " * 5011 variables\n",
       "Solver is Ipopt,1998),JuMP.NonlinearExpression(Maximization problem with:\n",
       " * 13 linear constraints\n",
       " * 5011 variables\n",
       "Solver is Ipopt,1999),JuMP.NonlinearExpression(Maximization problem with:\n",
       " * 13 linear constraints\n",
       " * 5011 variables\n",
       "Solver is Ipopt,2000),JuMP.NonlinearExpression(Maximization problem with:\n",
       " * 13 linear constraints\n",
       " * 5011 variables\n",
       "Solver is Ipopt,2001),JuMP.NonlinearExpression(Maximization problem with:\n",
       " * 13 linear constraints\n",
       " * 5011 variables\n",
       "Solver is Ipopt,2002),JuMP.NonlinearExpression(Maximization problem with:\n",
       " * 13 linear constraints\n",
       " * 5011 variables\n",
       "Solver is Ipopt,2003),JuMP.NonlinearExpression(Maximization problem with:\n",
       " * 13 linear constraints\n",
       " * 5011 variables\n",
       "Solver is Ipopt,2004),JuMP.NonlinearExpression(Maximization problem with:\n",
       " * 13 linear constraints\n",
       " * 5011 variables\n",
       "Solver is Ipopt,2005)],(0:500,),(Dict{Int64,Int64}(),),Dict{Symbol,Any}())"
      ]
     },
     "execution_count": 4,
     "metadata": {},
     "output_type": "execute_result"
    }
   ],
   "source": [
    "@NLexpression(mod, dvx[i=0:M], c1*u[i]*utx[i]/m[i])\n",
    "@NLexpression(mod, dvy[i=0:M], c1*u[i]*uty[i]/m[i])\n",
    "@NLexpression(mod, dω[i=0:M], -c1*u[i]*(utx[i]*cos(θ[i]) - uty[i]*sin(θ[i]))/(c3*m[i]))\n",
    "@NLexpression(mod, dm[i=0:M], -c1*u[i]/c2)"
   ]
  },
  {
   "cell_type": "code",
   "execution_count": 5,
   "metadata": {
    "collapsed": false
   },
   "outputs": [
    {
     "data": {
      "text/latex": [
       "$$ \\begin{alignat*}{1}\\max\\quad & m_{500}\\\\\n",
       "\\text{Subject to} \\quad & x_{500} = 0\\\\\n",
       " & y_{500} = 0\\\\\n",
       " & vx_{500} = 0\\\\\n",
       " & vy_{500} = 0\\\\\n",
       " & θ_{500} = 0\\\\\n",
       " & ω_{500} = 0\\\\\n",
       " & x_{0} = 0\\\\\n",
       " & y_{0} = 1000\\\\\n",
       " & vx_{0} = 10\\\\\n",
       " & vy_{0} = -5\\\\\n",
       " & θ_{0} = 0\\\\\n",
       " & ω_{0} = 0\\\\\n",
       " & m_{0} = 10000\\\\\n",
       " & 3500 nonlinear constraints\\\\\n",
       " & -1000 \\leq x_{i} \\leq 1000 \\quad\\forall i \\in \\{0,1,\\dots,499,500\\}\\\\\n",
       " & 0 \\leq y_{i} \\leq 1000 \\quad\\forall i \\in \\{0,1,\\dots,499,500\\}\\\\\n",
       " & -200 \\leq vx_{i} \\leq 200 \\quad\\forall i \\in \\{0,1,\\dots,499,500\\}\\\\\n",
       " & -200 \\leq vy_{i} \\leq 0 \\quad\\forall i \\in \\{0,1,\\dots,499,500\\}\\\\\n",
       " & 0 \\leq θ_{i} \\leq 6.283185307179586 \\quad\\forall i \\in \\{0,1,\\dots,499,500\\}\\\\\n",
       " & -4 \\leq ω_{i} \\leq 4 \\quad\\forall i \\in \\{0,1,\\dots,499,500\\}\\\\\n",
       " & 0 \\leq m_{i} \\leq 10000 \\quad\\forall i \\in \\{0,1,\\dots,499,500\\}\\\\\n",
       " & 0 \\leq u_{i} \\leq 1 \\quad\\forall i \\in \\{0,1,\\dots,499,500\\}\\\\\n",
       " & -1 \\leq utx_{i} \\leq 1 \\quad\\forall i \\in \\{0,1,\\dots,499,500\\}\\\\\n",
       " & -1 \\leq uty_{i} \\leq 1 \\quad\\forall i \\in \\{0,1,\\dots,499,500\\}\\\\\n",
       " & Δt \\geq 0\\\\\n",
       "\\end{alignat*}\n",
       " $$"
      ],
      "text/plain": [
       "Maximization problem with:\n",
       " * 13 linear constraints\n",
       " * 3500 nonlinear constraints\n",
       " * 5011 variables\n",
       "Solver is Ipopt"
      ]
     },
     "execution_count": 5,
     "metadata": {},
     "output_type": "execute_result"
    }
   ],
   "source": [
    "for j in 1:M\n",
    "    @NLconstraint(mod, x[j] == x[j-1] + 0.5*Δt*(vx[j] + vx[j-1]))\n",
    "    @NLconstraint(mod, y[j] == y[j-1] + 0.5*Δt*(vy[j] + vy[j-1]))\n",
    "    @NLconstraint(mod, vx[j] == vx[j-1] + 0.5*Δt*(dvx[j] + dvx[j-1]))\n",
    "    @NLconstraint(mod, vy[j] == vy[j-1] + 0.5*Δt*(dvy[j] + dvy[j-1]))\n",
    "    @NLconstraint(mod, θ[j] == θ[j-1] + 0.5*Δt*(ω[j] + ω[j-1]))\n",
    "    @NLconstraint(mod, ω[j] == ω[j-1] + 0.5*Δt*(dω[j] + dω[j-1]))\n",
    "    @NLconstraint(mod, m[j] == m[j-1] + 0.5*Δt*(dm[j] + dm[j-1]))\n",
    "end\n",
    "mod"
   ]
  },
  {
   "cell_type": "code",
   "execution_count": 6,
   "metadata": {
    "collapsed": false
   },
   "outputs": [
    {
     "name": "stdout",
     "output_type": "stream",
     "text": [
      "Solving...\n",
      "\n",
      "******************************************************************************\n",
      "This program contains Ipopt, a library for large-scale nonlinear optimization.\n",
      " Ipopt is released as open source code under the Eclipse Public License (EPL).\n",
      "         For more information visit http://projects.coin-or.org/Ipopt\n",
      "******************************************************************************\n",
      "\n"
     ]
    },
    {
     "name": "stderr",
     "output_type": "stream",
     "text": [
      "\u001b[1m\u001b[31mWARNING: Ipopt finished with status Restoration_Failed\u001b[0m\n"
     ]
    },
    {
     "name": "stdout",
     "output_type": "stream",
     "text": [
      "Solver status: Error\n"
     ]
    },
    {
     "name": "stderr",
     "output_type": "stream",
     "text": [
      "\u001b[1m\u001b[31mWARNING: Not solved to optimality, status: Error\u001b[0m\n"
     ]
    }
   ],
   "source": [
    "println(\"Solving...\")\n",
    "status = solve(mod)\n",
    "println(\"Solver status: \", status)"
   ]
  },
  {
   "cell_type": "code",
   "execution_count": 7,
   "metadata": {
    "collapsed": false
   },
   "outputs": [
    {
     "name": "stderr",
     "output_type": "stream",
     "text": [
      "\u001b[1m\u001b[31mWARNING: getValue is deprecated, use getvalue instead.\u001b[0m\n",
      " in depwarn(::String, ::Symbol) at ./deprecated.jl:64\n",
      " in getValue(::JuMP.JuMPArray{JuMP.Variable,1,Tuple{UnitRange{Int64}}}, ::Vararg{JuMP.JuMPArray{JuMP.Variable,1,Tuple{UnitRange{Int64}}},N}) at ./deprecated.jl:30\n",
      " in include_string(::String, ::String) at ./loading.jl:441\n",
      " in execute_request(::ZMQ.Socket, ::IJulia.Msg) at /home/cisprague/.julia/v0.5/IJulia/src/execute_request.jl:157\n",
      " in eventloop(::ZMQ.Socket) at /home/cisprague/.julia/v0.5/IJulia/src/eventloop.jl:8\n",
      " in (::IJulia.##13#19)() at ./task.jl:360\n",
      "while loading In[7], in expression starting on line 2\n"
     ]
    },
    {
     "name": "stdout",
     "output_type": "stream",
     "text": [
      "[-5.92346e-43,-265.086,-116.33,177.646,-90.7494,30.5611,33.3094,-22.9096,11.9461,-63.5339,-6.25572,13.5228,22.3428,17.5215,0.765991,-6.46161,-7.08865,-5.85334,-1.77758,0.846165,1.62545,2.00436,1.6042,0.849083,0.33433,0.316941,0.431157,0.377873,0.231935,0.305699,0.450941,0.45565,0.400678,0.495656,0.60126,0.581173,0.529682,0.564813,0.54723,0.377801,0.177703,0.0608604,-0.040441,-0.188,-0.313079,-0.359916,-0.371009,-0.381403,-0.379516,-0.358908,-0.330799,-0.297808,-0.259099,-0.216878,-0.170351,-0.119464,-0.0746628,-0.0474484,-0.0445331,-0.0995077,-0.242125,-0.360287,-0.227269,0.128789,0.284531,0.0316521,-0.227475,-0.149598,0.023688,0.000708902,-0.0463176,0.142449,0.432777,0.521039,0.354653,0.147438,0.108283,0.159075,0.0402453,-0.18442,-0.0757774,0.423957,0.68309,0.335768,-0.0850251,-0.0209538,0.292727,0.370466,0.222893,0.166499,0.297912,0.437561,0.414532,0.243062,0.0692015,-0.00717156,-0.00775265,0.0246313,0.101031,0.238408,0.385695,0.450736,0.382781,0.211234,0.0398876,-0.0249607,0.0539237,0.228343,0.382331,0.412007,0.308829,0.171179,0.120407,0.182098,0.290042,0.448931,0.625513,0.554555,0.0512048,-0.421883,-0.308781,0.225186,0.860298,1.08458,0.616356,0.14251,0.0666675,0.0939477,0.0789088,0.10784,0.208668,0.330018,0.423247,0.472023,0.487642,0.486354,0.477683,0.46387,0.445573,0.423055,0.39793,0.37135,0.345226,0.320942,0.29912,0.279187,0.26016,0.241812,0.224893,0.210707,0.199824,0.191594,0.184408,0.176905,0.168565,0.16029,0.153805,0.150051,0.148588,0.147816,0.14645,0.143789,0.140159,0.136583,0.134626,0.135147,0.137509,0.140353,0.142383,0.143055,0.142395,0.141119,0.140342,0.141068,0.143197,0.146,0.148601,0.150171,0.150682,0.150041,0.149014,0.148211,0.147993,0.148596,0.14949,0.150326,0.150616,0.150044,0.148645,0.146454,0.143687,0.140762,0.1378,0.135132,0.132751,0.130722,0.129324,0.128447,0.12885,0.130756,0.134787,0.141521,0.150359,0.160867,0.17208,0.184417,0.19606,0.205503,0.212957,0.21811,0.221223,0.222565,0.222778,0.222166,0.220953,0.219467,0.217717,0.21572,0.213454,0.210725,0.207362,0.203008,0.198069,0.192544,0.186169,0.180604,0.177737,0.175982,0.173113,0.16968,0.166023,0.161579,0.156077,0.149364,0.141334,0.131742,0.120922,0.108807,0.0959508,0.0831937,0.0714342,0.061715,0.0540683,0.0477489,0.04127,0.0339517,0.0245685,0.0122152,-0.00186023,-0.0161797,-0.0306251,-0.0455233,-0.0599039,-0.0733002,-0.0863639,-0.0992923,-0.111748,-0.123444,-0.134539,-0.145204,-0.155998,-0.167284,-0.179135,-0.191787,-0.20554,-0.220625,-0.236225,-0.25159,-0.266892,-0.282529,-0.298468,-0.314568,-0.331095,-0.348263,-0.36588,-0.383528,-0.400878,-0.41766,-0.434244,-0.451144,-0.469071,-0.48866,-0.509961,-0.532884,-0.556871,-0.581399,-0.606067,-0.63045,-0.654248,-0.677004,-0.698272,-0.71762,-0.734662,-0.749109,-0.760753,-0.769559,-0.775632,-0.779205,-0.780172,-0.778471,-0.773946,-0.766384,-0.755608,-0.741515,-0.724611,-0.70555,-0.685025,-0.663467,-0.641112,-0.617849,-0.593186,-0.566289,-0.536971,-0.504955,-0.470997,-0.435728,-0.400065,-0.365049,-0.330956,-0.299062,-0.268338,-0.238348,-0.207541,-0.173971,-0.138782,-0.10243,-0.0671509,-0.0356958,-0.00988035,0.00608451,0.00900413,-0.00584065,-0.0418753,-0.10215,-0.187283,-0.293993,-0.414599,-0.53087,-0.628505,-0.69365,-0.721021,-0.719716,-0.696802,-0.658804,-0.607416,-0.539563,-0.452623,-0.351525,-0.237836,-0.124632,-0.0252374,0.0571941,0.108276,0.143317,0.174822,0.2134,0.261031,0.300739,0.269412,0.122775,0.00147511,-0.0410588,-0.0938605,-0.130184,-0.105598,-0.0442023,0.00122716,-0.00417668,-0.0433543,-0.0911817,-0.134045,-0.173045,-0.229597,-0.320273,-0.448437,-0.607945,-0.781391,-0.947906,-1.09901,-1.24752,-1.43436,-1.63227,-1.76385,-1.84824,-1.90731,-1.89904,-1.79545,-1.62862,-1.44064,-1.24328,-1.02521,-0.765642,-0.524251,-0.34575,-0.207957,-0.0944351,0.0438721,0.221203,0.450275,0.789956,0.895876,0.354483,-0.0728937,0.492941,1.21177,1.0737,0.57233,0.334006,0.141477,-0.2082,-0.682662,-1.33417,-1.57484,-0.689952,-0.48535,-2.83014,-4.65661,-2.73086,0.148587,0.562297,-0.0407073,0.399367,1.11125,1.03016,1.11966,2.38205,2.72888,0.406583,-1.70095,-0.965179,0.651767,0.815411,0.0646559,-0.386092,-0.384919,-0.212774,-0.0894517,-0.0609123,0.0629051,0.302022,0.291,-0.0961575,-0.187101,0.510248,0.822476,-0.367072,-1.39122,-0.44174,0.779157,0.228284,-0.738091,-0.431103,0.26958,0.192278,-0.330959,-0.484188,-0.263189,-0.299236,-0.170499,0.643976,0.502744,-1.22462,-2.14586,-1.65638,-0.796918,1.41491,3.12933,0.560724,-2.32206,-0.490378,1.36472,-0.757657,-2.61473,-1.56499,-0.0798837,-0.318666,-1.36541,-1.05673,0.0450892,0.284306,-0.121677,-1.22401,-2.43972,-1.7036,0.375871,0.53312,-1.32974,-0.878875,1.37742,-0.984451,-2.19722,1.32648,-3.2947,-1.32976,11.1059,-11.6923,-20.8365,61.6816,-14.3968,-77.5437,-4.09752e-36]\n"
     ]
    }
   ],
   "source": [
    "using PyPlot\n",
    "println(getValue(x)[0:M])"
   ]
  }
 ],
 "metadata": {
  "kernelspec": {
   "display_name": "Julia 0.5.0",
   "language": "julia",
   "name": "julia-0.5"
  },
  "language_info": {
   "file_extension": ".jl",
   "mimetype": "application/julia",
   "name": "julia",
   "version": "0.5.0"
  }
 },
 "nbformat": 4,
 "nbformat_minor": 2
}
