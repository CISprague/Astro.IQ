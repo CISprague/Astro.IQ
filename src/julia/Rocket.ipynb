{
 "cells": [
  {
   "cell_type": "code",
   "execution_count": 1,
   "metadata": {
    "collapsed": false
   },
   "outputs": [],
   "source": [
    "using JuMP, Ipopt"
   ]
  },
  {
   "cell_type": "code",
   "execution_count": 13,
   "metadata": {
    "collapsed": false
   },
   "outputs": [
    {
     "data": {
      "text/latex": [
       "$$ \\begin{alignat*}{1}\\max\\quad & m_{100}\\\\\n",
       "\\text{Subject to} \\quad & x_{100} = 0\\\\\n",
       " & y_{100} = 0\\\\\n",
       " & vx_{100} = 0\\\\\n",
       " & vy_{100} = 0\\\\\n",
       " & θ_{100} = 0\\\\\n",
       " & ω_{100} = 0\\\\\n",
       " & -1000 \\leq x_{i} \\leq 1000 \\quad\\forall i \\in \\{0,1,\\dots,99,100\\}\\\\\n",
       " & 0 \\leq y_{i} \\leq 1000 \\quad\\forall i \\in \\{0,1,\\dots,99,100\\}\\\\\n",
       " & -200 \\leq vx_{i} \\leq 200 \\quad\\forall i \\in \\{0,1,\\dots,99,100\\}\\\\\n",
       " & -200 \\leq vy_{i} \\leq 0 \\quad\\forall i \\in \\{0,1,\\dots,99,100\\}\\\\\n",
       " & 0 \\leq θ_{i} \\leq 6.283185307179586 \\quad\\forall i \\in \\{0,1,\\dots,99,100\\}\\\\\n",
       " & -4 \\leq ω_{i} \\leq 4 \\quad\\forall i \\in \\{0,1,\\dots,99,100\\}\\\\\n",
       " & 0 \\leq m_{i} \\leq 10000 \\quad\\forall i \\in \\{0,1,\\dots,99,100\\}\\\\\n",
       " & 0 \\leq u1_{i} \\leq 1 \\quad\\forall i \\in \\{0,1,\\dots,98,99\\}\\\\\n",
       " & -1 \\leq utx_{i} \\leq 1 \\quad\\forall i \\in \\{0,1,\\dots,98,99\\}\\\\\n",
       " & -1 \\leq uty_{i} \\leq 1 \\quad\\forall i \\in \\{0,1,\\dots,99,100\\}\\\\\n",
       " & tf \\geq 0\\\\\n",
       "\\end{alignat*}\n",
       " $$"
      ],
      "text/plain": [
       "Maximization problem with:\n",
       " * 6 linear constraints\n",
       " * 1009 variables\n",
       "Solver is default solver"
      ]
     },
     "execution_count": 13,
     "metadata": {},
     "output_type": "execute_result"
    }
   ],
   "source": [
    "mod = Model()\n",
    "M = 100\n",
    "@variable(mod, tf >= 0)\n",
    "@variable(mod, -1000 <= x[0:M] <= 1000, start = 0)\n",
    "@variable(mod, 0 <= y[0:M] <= 1000, start = 1000)\n",
    "@variable(mod, -200 <= vx[0:M] <= 200, start = -15)\n",
    "@variable(mod, -200 <= vy[0:M] <= 0, start = 0)\n",
    "@variable(mod, 0 <= θ[0:M] <= 2*pi, start = 1)\n",
    "@variable(mod, -4 <= ω[0:M] <= 4, start = 0)\n",
    "@variable(mod, 0 <= m[0:M] <= 10000)\n",
    "\n",
    "@variable(mod, 0 <= u1[0:M-1] <= 1)\n",
    "@variable(mod, -1 <= utx[0:M-1] <= 1)\n",
    "@variable(mod, -1 <= uty[0:M] <= 1)\n",
    "@objective(mod, Max, m[M])\n",
    "\n",
    "@constraint(mod, x[M] == 0)\n",
    "@constraint(mod, y[M] == 0)\n",
    "@constraint(mod, vx[M] == 0)\n",
    "@constraint(mod, vy[M] == 0)\n",
    "@constraint(mod, θ[M] == 0)\n",
    "@constraint(mod, ω[M] ==0)\n",
    "\n",
    "mod"
   ]
  }
 ],
 "metadata": {
  "kernelspec": {
   "display_name": "Julia 0.5.0",
   "language": "julia",
   "name": "julia-0.5"
  },
  "language_info": {
   "file_extension": ".jl",
   "mimetype": "application/julia",
   "name": "julia",
   "version": "0.5.0"
  }
 },
 "nbformat": 4,
 "nbformat_minor": 2
}
