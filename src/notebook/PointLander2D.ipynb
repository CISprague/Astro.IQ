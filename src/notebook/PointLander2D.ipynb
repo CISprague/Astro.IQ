{
 "cells": [
  {
   "cell_type": "markdown",
   "metadata": {},
   "source": [
    "# Two Dimensional Point Landing"
   ]
  },
  {
   "cell_type": "code",
   "execution_count": 1,
   "metadata": {
    "collapsed": true
   },
   "outputs": [],
   "source": [
    "from sympy import *"
   ]
  },
  {
   "cell_type": "code",
   "execution_count": 26,
   "metadata": {
    "collapsed": false
   },
   "outputs": [
    {
     "data": {
      "text/plain": [
       "Matrix([\n",
       "[  0],\n",
       "[-g0]])"
      ]
     },
     "execution_count": 26,
     "metadata": {},
     "output_type": "execute_result"
    }
   ],
   "source": [
    "# State\n",
    "x, y, vx, vy, m = symbols('x y vx vy m')\n",
    "r = Matrix([x, y])\n",
    "v = Matrix([vx, vy])\n",
    "s = Matrix([r, v, [m]])\n",
    "\n",
    "# Costate\n",
    "lx, ly, lvx, lvy, lm = symbols('lx ly lvx lvy lvm')\n",
    "lr = Matrix([lx, ly])\n",
    "lv = Matrix([lvx, lvy])\n",
    "l  = Matrix([lr, lv, [lm]])\n",
    "\n",
    "# Fullstate\n",
    "fs = Matrix([s, l])\n",
    "\n",
    "# Control\n",
    "u, theta = symbols('u theta')\n",
    "cont = Matrix([u, theta])\n",
    "\n",
    "# Parameters\n",
    "T, Isp, g0 = symbols('T Isp g0')\n",
    "c = Isp*g0\n",
    "g = Matrix([0, -g0])"
   ]
  },
  {
   "cell_type": "code",
   "execution_count": 30,
   "metadata": {
    "collapsed": false
   },
   "outputs": [],
   "source": [
    "# Dynamics\n",
    "dr = v\n",
    "dv = T*u/m*Matrix([sin(theta), cos(theta)]) + g\n",
    "dm = -T/c*u"
   ]
  },
  {
   "cell_type": "code",
   "execution_count": null,
   "metadata": {
    "collapsed": true
   },
   "outputs": [],
   "source": []
  }
 ],
 "metadata": {
  "kernelspec": {
   "display_name": "Python 2",
   "language": "python",
   "name": "python2"
  },
  "language_info": {
   "codemirror_mode": {
    "name": "ipython",
    "version": 2
   },
   "file_extension": ".py",
   "mimetype": "text/x-python",
   "name": "python",
   "nbconvert_exporter": "python",
   "pygments_lexer": "ipython2",
   "version": "2.7.12"
  }
 },
 "nbformat": 4,
 "nbformat_minor": 1
}
