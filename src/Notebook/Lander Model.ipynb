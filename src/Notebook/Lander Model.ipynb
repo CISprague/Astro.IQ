{
 "cells": [
  {
   "cell_type": "markdown",
   "metadata": {},
   "source": [
    "# Point Lander Model with Drag"
   ]
  },
  {
   "cell_type": "code",
   "execution_count": 1,
   "metadata": {
    "collapsed": true
   },
   "outputs": [],
   "source": [
    "from sympy import *\n",
    "init_printing()"
   ]
  },
  {
   "cell_type": "code",
   "execution_count": 2,
   "metadata": {
    "collapsed": false
   },
   "outputs": [],
   "source": [
    "# State\n",
    "x, y, vx, vy, m = symbols('x y vx vy m')\n",
    "r = Matrix([x, y])\n",
    "v = Matrix([vx, vy])\n",
    "s = Matrix([r, v, [m]])\n",
    "# Control\n",
    "u, theta = symbols('u theta')\n",
    "# Parameters\n",
    "c1, c2, c3, g, a = symbols('c1 c2 c3 g a')"
   ]
  },
  {
   "cell_type": "code",
   "execution_count": 3,
   "metadata": {
    "collapsed": false
   },
   "outputs": [
    {
     "name": "stdout",
     "output_type": "stream",
     "text": [
      "([(x0, 1/m), (x1, c1*u*x0), (x2, c3*x0*sqrt(Abs(vx)**2 + Abs(vy)**2))], [Matrix([\n",
      "[                        vx],\n",
      "[                        vy],\n",
      "[    -vx*x2 + x1*cos(theta)],\n",
      "[-g - vy*x2 + x1*sin(theta)],\n",
      "[                  -c1*u/c2]])])\n"
     ]
    }
   ],
   "source": [
    "# State Dynamics\n",
    "vnorm = v.norm()\n",
    "vhat  = v/vnorm\n",
    "dx = vx\n",
    "dy = vy\n",
    "dvx = c1*u/m*cos(theta) - c3*(vnorm**2)*vhat[0]/m\n",
    "dvy = c1*u/m*sin(theta) - g - c3*(vnorm**2)*vhat[1]/m\n",
    "dm = -c1*u/c2\n",
    "ds = Matrix([dx, dy, dvx, dvy, dm])\n",
    "print cse(ds)"
   ]
  },
  {
   "cell_type": "code",
   "execution_count": null,
   "metadata": {
    "collapsed": false
   },
   "outputs": [],
   "source": [
    "# Homotopic Cost Lagrangian\n",
    "L = a*c1 / c2 * u + (1-a) * c1**2 /c2 * u**2"
   ]
  },
  {
   "cell_type": "code",
   "execution_count": null,
   "metadata": {
    "collapsed": false
   },
   "outputs": [],
   "source": [
    "# Hamiltonian\n",
    "H = l.dot(ds) + L"
   ]
  },
  {
   "cell_type": "code",
   "execution_count": null,
   "metadata": {
    "collapsed": false
   },
   "outputs": [],
   "source": [
    "# Costate Dynamics\n",
    "dl = -Matrix([diff(H, i) for i in s])\n",
    "dl"
   ]
  },
  {
   "cell_type": "code",
   "execution_count": null,
   "metadata": {
    "collapsed": true
   },
   "outputs": [],
   "source": []
  }
 ],
 "metadata": {
  "kernelspec": {
   "display_name": "Python 2",
   "language": "python",
   "name": "python2"
  },
  "language_info": {
   "codemirror_mode": {
    "name": "ipython",
    "version": 2
   },
   "file_extension": ".py",
   "mimetype": "text/x-python",
   "name": "python",
   "nbconvert_exporter": "python",
   "pygments_lexer": "ipython2",
   "version": "2.7.12"
  }
 },
 "nbformat": 4,
 "nbformat_minor": 1
}
