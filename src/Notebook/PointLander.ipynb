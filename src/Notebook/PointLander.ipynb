{
 "cells": [
  {
   "cell_type": "markdown",
   "metadata": {},
   "source": [
    "# Two Dimensional Point Landing\n",
    "The dynamics of the system are:\n",
    "$$\n",
    "\\left \\{\n",
    "\\begin{align}\n",
    "\\dot{x} &= v_x \\\\\n",
    "\\dot{y} &= v_y \\\\\n",
    "\\dot{v}_x &= \\frac{T u}{m} \\hat{u}_x \\\\\n",
    "\\dot{v}_y &= \\frac{T u}{m} \\hat{u}_y - g\\\\\n",
    "\\dot{m} &= -\\frac{T}{I_{sp}g_0}\n",
    "\\end{align}\n",
    "\\right\\}\n",
    "$$"
   ]
  },
  {
   "cell_type": "code",
   "execution_count": 25,
   "metadata": {
    "collapsed": true
   },
   "outputs": [],
   "source": [
    "from sympy import *"
   ]
  },
  {
   "cell_type": "code",
   "execution_count": 26,
   "metadata": {
    "collapsed": false
   },
   "outputs": [],
   "source": [
    "# State\n",
    "x, y, vx, vy, m = symbols('x y vx vy m')\n",
    "r = Matrix([x, y])\n",
    "v = Matrix([vx, vy])\n",
    "s = Matrix([r, v, [m]])\n",
    "\n",
    "# Costate\n",
    "lx, ly, lvx, lvy, lm = symbols('lx ly lvx lvy lm')\n",
    "lr = Matrix([lx, ly])\n",
    "lv = Matrix([lvx, lvy])\n",
    "l  = Matrix([lr, lv, [lm]])\n",
    "\n",
    "# Fullstate\n",
    "fs = Matrix([s, l])\n",
    "\n",
    "# Control\n",
    "u, theta = symbols('u theta')\n",
    "ut = Matrix([sin(theta), cos(theta)])\n",
    "\n",
    "# Parameters\n",
    "T, Isp, g0, a, g = symbols('T Isp g0 a, g')\n",
    "c = Isp*g0\n",
    "g = Matrix([0, -g])"
   ]
  },
  {
   "cell_type": "code",
   "execution_count": 27,
   "metadata": {
    "collapsed": false
   },
   "outputs": [],
   "source": [
    "# Dynamics\n",
    "dr = v\n",
    "dv = T*u/m*ut + g\n",
    "dm = -T/c*u\n",
    "ds = Matrix([dr, dv, [dm]])"
   ]
  },
  {
   "cell_type": "code",
   "execution_count": 28,
   "metadata": {
    "collapsed": false
   },
   "outputs": [],
   "source": [
    "# Lagrangian Cost\n",
    "L = 1/c*((1-a)*T**2*u**2 + a*T*u)"
   ]
  },
  {
   "cell_type": "code",
   "execution_count": 29,
   "metadata": {
    "collapsed": false
   },
   "outputs": [],
   "source": [
    "# Hamiltonian\n",
    "H = l.dot(ds) + L"
   ]
  },
  {
   "cell_type": "code",
   "execution_count": 30,
   "metadata": {
    "collapsed": false
   },
   "outputs": [],
   "source": [
    "# Costate Dynamics\n",
    "dl = -Matrix([H.diff(i) for i in s])"
   ]
  },
  {
   "cell_type": "code",
   "execution_count": 31,
   "metadata": {
    "collapsed": false
   },
   "outputs": [],
   "source": [
    "# Fullstate dynamics\n",
    "dfs = Matrix([ds, dl])"
   ]
  },
  {
   "cell_type": "code",
   "execution_count": 35,
   "metadata": {
    "collapsed": false
   },
   "outputs": [
    {
     "data": {
      "text/plain": [
       "(T**2*u**2*(-a + 1) + T*a*u)/(Isp*g0)"
      ]
     },
     "execution_count": 35,
     "metadata": {},
     "output_type": "execute_result"
    }
   ],
   "source": [
    "# Pontryagin Maximum\n",
    "lv.normalized()\n",
    "a - lv.norm()*c/m - lm\n",
    "L"
   ]
  },
  {
   "cell_type": "code",
   "execution_count": null,
   "metadata": {
    "collapsed": true
   },
   "outputs": [],
   "source": []
  }
 ],
 "metadata": {
  "kernelspec": {
   "display_name": "Python 2",
   "language": "python",
   "name": "python2"
  },
  "language_info": {
   "codemirror_mode": {
    "name": "ipython",
    "version": 2
   },
   "file_extension": ".py",
   "mimetype": "text/x-python",
   "name": "python",
   "nbconvert_exporter": "python",
   "pygments_lexer": "ipython2",
   "version": "2.7.12"
  }
 },
 "nbformat": 4,
 "nbformat_minor": 1
}
