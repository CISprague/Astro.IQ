{
 "cells": [
  {
   "cell_type": "markdown",
   "metadata": {},
   "source": [
    "# Two Dimensional Point Landing\n",
    "The dynamics of the system are:\n",
    "$$\n",
    "\\left \\{\n",
    "\\begin{align}\n",
    "\\dot{x} &= v_x \\\\\n",
    "\\dot{y} &= v_y \\\\\n",
    "\\dot{v}_x &= \\frac{T u}{m} \\hat{u}_x \\\\\n",
    "\\dot{v}_y &= \\frac{T u}{m} \\hat{u}_y - g\\\\\n",
    "\\dot{m} &= -\\frac{T}{I_{sp}g_0}\n",
    "\\end{align}\n",
    "\\right\\}\n",
    "$$"
   ]
  },
  {
   "cell_type": "code",
   "execution_count": 1,
   "metadata": {
    "collapsed": true
   },
   "outputs": [],
   "source": [
    "from sympy import *"
   ]
  },
  {
   "cell_type": "code",
   "execution_count": 2,
   "metadata": {
    "collapsed": false
   },
   "outputs": [],
   "source": [
    "# State\n",
    "x, y, vx, vy, m = symbols('x y vx vy m')\n",
    "r = Matrix([x, y])\n",
    "v = Matrix([vx, vy])\n",
    "s = Matrix([r, v, [m]])\n",
    "\n",
    "# Costate\n",
    "lx, ly, lvx, lvy, lm = symbols('lx ly lvx lvy lm')\n",
    "lr = Matrix([lx, ly])\n",
    "lv = Matrix([lvx, lvy])\n",
    "l  = Matrix([lr, lv, [lm]])\n",
    "\n",
    "# Fullstate\n",
    "fs = Matrix([s, l])\n",
    "\n",
    "# Control\n",
    "u, theta = symbols('u theta')\n",
    "ut = Matrix([sin(theta), cos(theta)])\n",
    "\n",
    "# Parameters\n",
    "T, Isp, g0, a, g = symbols('T Isp g0 a, g')\n",
    "c = Isp*g0\n",
    "g = Matrix([0, -g])"
   ]
  },
  {
   "cell_type": "code",
   "execution_count": 5,
   "metadata": {
    "collapsed": false
   },
   "outputs": [],
   "source": [
    "# Dynamics\n",
    "dr = v\n",
    "dv = T*u/m*ut + g\n",
    "dm = -T/c*u\n",
    "ds = Matrix([dr, dv, [dm]])"
   ]
  },
  {
   "cell_type": "code",
   "execution_count": 6,
   "metadata": {
    "collapsed": false
   },
   "outputs": [],
   "source": [
    "# Lagrangian Cost\n",
    "L = 1/c*((1-a)*T**2*u**2 + a*T*u)"
   ]
  },
  {
   "cell_type": "code",
   "execution_count": 11,
   "metadata": {
    "collapsed": false
   },
   "outputs": [],
   "source": [
    "# Hamiltonian\n",
    "H = l.dot(ds) + L"
   ]
  },
  {
   "cell_type": "code",
   "execution_count": 12,
   "metadata": {
    "collapsed": false
   },
   "outputs": [],
   "source": [
    "# Costate Dynamics\n",
    "dl = -Matrix([H.diff(i) for i in s])"
   ]
  },
  {
   "cell_type": "code",
   "execution_count": 13,
   "metadata": {
    "collapsed": false
   },
   "outputs": [],
   "source": [
    "# Fullstate dynamics\n",
    "dfs = Matrix([ds, dl])"
   ]
  },
  {
   "cell_type": "code",
   "execution_count": 24,
   "metadata": {
    "collapsed": false
   },
   "outputs": [
    {
     "name": "stdout",
     "output_type": "stream",
     "text": [
      "([(x0, T*u/m), (x1, 1/(Isp*g0))], [-T*lm*u*x1 + lvx*x0*sin(theta) + lvy*(-g + x0*cos(theta)) + lx*vx + ly*vy + x1*(T**2*u**2*(-a + 1) + a*(T*u))])\n"
     ]
    }
   ],
   "source": [
    "# Pontryagin Maximum\n",
    "lv.normalized()\n",
    "a - lv.norm()*c/m - lm\n",
    "print cse(H)"
   ]
  },
  {
   "cell_type": "code",
   "execution_count": null,
   "metadata": {
    "collapsed": false
   },
   "outputs": [],
   "source": [
    "print latex(H)"
   ]
  },
  {
   "cell_type": "code",
   "execution_count": null,
   "metadata": {
    "collapsed": false
   },
   "outputs": [],
   "source": [
    "print latex(dfs.jacobian(fs))"
   ]
  },
  {
   "cell_type": "code",
   "execution_count": null,
   "metadata": {
    "collapsed": true
   },
   "outputs": [],
   "source": []
  }
 ],
 "metadata": {
  "kernelspec": {
   "display_name": "Python 2",
   "language": "python",
   "name": "python2"
  },
  "language_info": {
   "codemirror_mode": {
    "name": "ipython",
    "version": 2
   },
   "file_extension": ".py",
   "mimetype": "text/x-python",
   "name": "python",
   "nbconvert_exporter": "python",
   "pygments_lexer": "ipython2",
   "version": "2.7.12"
  }
 },
 "nbformat": 4,
 "nbformat_minor": 1
}
