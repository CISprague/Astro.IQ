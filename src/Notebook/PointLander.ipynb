{
 "cells": [
  {
   "cell_type": "markdown",
   "metadata": {},
   "source": [
    "# Two Dimensional Point Landing\n",
    "The dynamics of the system are:\n",
    "$$\n",
    "\\left \\{\n",
    "\\begin{align}\n",
    "\\dot{x} &= v_x \\\\\n",
    "\\dot{y} &= v_y \\\\\n",
    "\\dot{v}_x &= \\frac{T u}{m} \\hat{u}_x \\\\\n",
    "\\dot{v}_y &= \\frac{T u}{m} \\hat{u}_y - g\\\\\n",
    "\\dot{m} &= -\\frac{T}{I_{sp}g_0}\n",
    "\\end{align}\n",
    "\\right\\}\n",
    "$$"
   ]
  },
  {
   "cell_type": "code",
   "execution_count": 1,
   "metadata": {
    "collapsed": true
   },
   "outputs": [],
   "source": [
    "from sympy import *"
   ]
  },
  {
   "cell_type": "code",
   "execution_count": 2,
   "metadata": {
    "collapsed": false
   },
   "outputs": [],
   "source": [
    "# State\n",
    "x, y, vx, vy, m = symbols('x y vx vy m')\n",
    "r = Matrix([x, y])\n",
    "v = Matrix([vx, vy])\n",
    "s = Matrix([r, v, [m]])\n",
    "\n",
    "# Costate\n",
    "lx, ly, lvx, lvy, lm = symbols('lx ly lvx lvy lm')\n",
    "lr = Matrix([lx, ly])\n",
    "lv = Matrix([lvx, lvy])\n",
    "l  = Matrix([lr, lv, [lm]])\n",
    "\n",
    "# Fullstate\n",
    "fs = Matrix([s, l])\n",
    "\n",
    "# Control\n",
    "u, st, ct = symbols('u st ct')\n",
    "ut = Matrix([st, ct])\n",
    "cont = Matrix([[u], ut])\n",
    "\n",
    "# Parameters\n",
    "T, Isp, g0, a, g = symbols('T Isp g0 a, g')\n",
    "c = Isp*g0\n",
    "g = Matrix([0, -g])"
   ]
  },
  {
   "cell_type": "code",
   "execution_count": 3,
   "metadata": {
    "collapsed": false
   },
   "outputs": [],
   "source": [
    "# Dynamics\n",
    "dr = v\n",
    "dv = T*u/m*ut + g\n",
    "dm = -T/c*u\n",
    "ds = Matrix([dr, dv, [dm]])"
   ]
  },
  {
   "cell_type": "code",
   "execution_count": 4,
   "metadata": {
    "collapsed": false
   },
   "outputs": [],
   "source": [
    "# Lagrangian Cost\n",
    "L = 1/c*((1-a)*T**2*u**2 + a*T*u)"
   ]
  },
  {
   "cell_type": "code",
   "execution_count": 5,
   "metadata": {
    "collapsed": false
   },
   "outputs": [],
   "source": [
    "# Hamiltonian\n",
    "H = l.dot(ds) + L"
   ]
  },
  {
   "cell_type": "code",
   "execution_count": 6,
   "metadata": {
    "collapsed": false
   },
   "outputs": [],
   "source": [
    "# Costate Dynamics\n",
    "dl = -Matrix([H.diff(i) for i in s])"
   ]
  },
  {
   "cell_type": "code",
   "execution_count": 7,
   "metadata": {
    "collapsed": false
   },
   "outputs": [],
   "source": [
    "# Fullstate dynamics\n",
    "dfs = Matrix([ds, dl])"
   ]
  },
  {
   "cell_type": "code",
   "execution_count": 8,
   "metadata": {
    "collapsed": false
   },
   "outputs": [
    {
     "data": {
      "text/plain": [
       "-Isp*g0*sqrt(Abs(lvx)**2 + Abs(lvy)**2)/m + a - lm"
      ]
     },
     "execution_count": 8,
     "metadata": {},
     "output_type": "execute_result"
    }
   ],
   "source": [
    "# Pontryagin Maximum\n",
    "lv.normalized()\n",
    "a - lv.norm()*c/m - lm"
   ]
  },
  {
   "cell_type": "code",
   "execution_count": 15,
   "metadata": {
    "collapsed": false
   },
   "outputs": [
    {
     "name": "stdout",
     "output_type": "stream",
     "text": [
      "\\frac{T lvx}{m} st u + lvy \\left(\\frac{T ct}{m} u - g\\right) + lx vx + ly vy - \\frac{T lm u}{Isp g_{0}} + \\frac{1}{Isp g_{0}} \\left(T^{2} u^{2} \\left(- a + 1\\right) + T a u\\right)\n"
     ]
    }
   ],
   "source": [
    "print latex(H)"
   ]
  },
  {
   "cell_type": "code",
   "execution_count": 21,
   "metadata": {
    "collapsed": false
   },
   "outputs": [
    {
     "name": "stdout",
     "output_type": "stream",
     "text": [
      "\\left[\\begin{matrix}0 & 0 & 1 & 0 & 0 & 0 & 0 & 0 & 0 & 0\\\\0 & 0 & 0 & 1 & 0 & 0 & 0 & 0 & 0 & 0\\\\0 & 0 & 0 & 0 & - \\frac{T st}{m^{2}} u & 0 & 0 & 0 & 0 & 0\\\\0 & 0 & 0 & 0 & - \\frac{T ct}{m^{2}} u & 0 & 0 & 0 & 0 & 0\\\\0 & 0 & 0 & 0 & 0 & 0 & 0 & 0 & 0 & 0\\\\0 & 0 & 0 & 0 & 0 & 0 & 0 & 0 & 0 & 0\\\\0 & 0 & 0 & 0 & 0 & 0 & 0 & 0 & 0 & 0\\\\0 & 0 & 0 & 0 & 0 & -1 & 0 & 0 & 0 & 0\\\\0 & 0 & 0 & 0 & 0 & 0 & -1 & 0 & 0 & 0\\\\0 & 0 & 0 & 0 & - \\frac{2 T}{m^{3}} ct lvy u - \\frac{2 T}{m^{3}} lvx st u & 0 & 0 & \\frac{T st}{m^{2}} u & \\frac{T ct}{m^{2}} u & 0\\end{matrix}\\right]\n"
     ]
    }
   ],
   "source": [
    "print latex(dfs.jacobian(fs))"
   ]
  },
  {
   "cell_type": "code",
   "execution_count": null,
   "metadata": {
    "collapsed": true
   },
   "outputs": [],
   "source": []
  }
 ],
 "metadata": {
  "kernelspec": {
   "display_name": "Python 2",
   "language": "python",
   "name": "python2"
  },
  "language_info": {
   "codemirror_mode": {
    "name": "ipython",
    "version": 2
   },
   "file_extension": ".py",
   "mimetype": "text/x-python",
   "name": "python",
   "nbconvert_exporter": "python",
   "pygments_lexer": "ipython2",
   "version": "2.7.12"
  }
 },
 "nbformat": 4,
 "nbformat_minor": 1
}
