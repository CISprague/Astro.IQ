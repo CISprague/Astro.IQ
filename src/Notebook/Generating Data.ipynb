{
 "cells": [
  {
   "cell_type": "markdown",
   "metadata": {},
   "source": [
    "# Generating a Data Set of Optimal Trajectories"
   ]
  },
  {
   "cell_type": "code",
   "execution_count": null,
   "metadata": {
    "collapsed": true
   },
   "outputs": [],
   "source": [
    "# We first import the resources\n",
    "import sys\n",
    "sys.path.append('..')\n",
    "from Trajectory import Point_Lander\n",
    "from Optimisation import Hermite_Simpson\n",
    "from PyGMO import *\n",
    "from numpy import *\n",
    "import matplotlib.pyplot as plt"
   ]
  },
  {
   "cell_type": "code",
   "execution_count": null,
   "metadata": {
    "collapsed": false
   },
   "outputs": [],
   "source": [
    "# We instantiate the problem\n",
    "prob = Hermite_Simpson(Point_Lander(si=[0,1000,20,-5,9900]), nsegs=40)"
   ]
  },
  {
   "cell_type": "code",
   "execution_count": null,
   "metadata": {
    "collapsed": false
   },
   "outputs": [],
   "source": [
    "# Let us first supply a ballistic trajectory as a guess\n",
    "zguess = prob.Guess.Ballistic(tf=28)"
   ]
  },
  {
   "cell_type": "code",
   "execution_count": null,
   "metadata": {
    "collapsed": false
   },
   "outputs": [],
   "source": [
    "# Decode the guess so we can visualise\n",
    "tf, cb, s, c = prob.Decode(zguess)"
   ]
  },
  {
   "cell_type": "code",
   "execution_count": null,
   "metadata": {
    "collapsed": false
   },
   "outputs": [],
   "source": [
    "plt.plot(s[:,0], s[:,1], 'k.-')\n",
    "plt.axes().set_aspect('equal', 'datalim')\n",
    "plt.xlabel('Cross Range [m]')\n",
    "plt.ylabel('Altitude [m]')\n",
    "plt.show()"
   ]
  },
  {
   "cell_type": "code",
   "execution_count": null,
   "metadata": {
    "collapsed": false
   },
   "outputs": [],
   "source": [
    "# Use SLSQP and alternatively Monotonic Basin Hopping\n",
    "alg1 = algorithm.scipy_slsqp(max_iter=3000, screen_output=True)\n",
    "alg2 = algorithm.mbh(alg1, stop=1, screen_output=True)\n",
    "alg3 = algorithm.ms(alg1)"
   ]
  },
  {
   "cell_type": "code",
   "execution_count": null,
   "metadata": {
    "collapsed": false
   },
   "outputs": [],
   "source": [
    "# Instantiate a population with 1 individual\n",
    "pop = population(prob)\n",
    "# and add the guess\n",
    "pop.push_back(zguess)"
   ]
  },
  {
   "cell_type": "code",
   "execution_count": null,
   "metadata": {
    "collapsed": false
   },
   "outputs": [],
   "source": [
    "# We then optimise the trajectory\n",
    "pop = alg2.evolve(pop)"
   ]
  },
  {
   "cell_type": "code",
   "execution_count": null,
   "metadata": {
    "collapsed": true
   },
   "outputs": [],
   "source": [
    "# We then save the resulting decision vector\n",
    "z = pop.champion.x\n",
    "save('HSD40', z)"
   ]
  },
  {
   "cell_type": "code",
   "execution_count": null,
   "metadata": {
    "collapsed": false
   },
   "outputs": [],
   "source": [
    "# We now visualise the optimised trajectory\n",
    "z = load('HSD40.npy')\n",
    "tf, cb, s, c = prob.Decode(z)\n",
    "plt.plot(s[:,0], s[:,1], 'k.-')\n",
    "plt.axes().set_aspect('equal', 'datalim')\n",
    "plt.xlabel('Cross Range [m]')\n",
    "plt.ylabel('Altitude [m]')\n",
    "plt.show()"
   ]
  },
  {
   "cell_type": "code",
   "execution_count": null,
   "metadata": {
    "collapsed": false
   },
   "outputs": [],
   "source": [
    "# and look at the control throttle\n",
    "plt.close('all')\n",
    "f, ax = plt.subplots(2, sharex=True)\n",
    "ax[0].plot(c[:,0], 'k.-')\n",
    "ax[1].plot(cb[:,0], 'k.-')\n",
    "plt.xlabel('Node Index')\n",
    "ax[0].set_ylabel('Node Throttle')\n",
    "ax[1].set_ylabel('Midpoint Throttle')\n",
    "plt.show()"
   ]
  },
  {
   "cell_type": "markdown",
   "metadata": {},
   "source": [
    "# Iterative Pertubation\n",
    "We will now generate a database of optimal trajectories starting from an arbitrarily defined state threshold."
   ]
  },
  {
   "cell_type": "code",
   "execution_count": null,
   "metadata": {
    "collapsed": false
   },
   "outputs": [],
   "source": [
    "# Defining the starting area\n",
    "silb  = array([-100, 500, -100, -30, 8000], float)\n",
    "siub  = array([100, 1000, 100, 10, 9000], float)\n",
    "ntraj = 50 # Number of trajectories to generate\n",
    "# We load the first trajectory we started with\n",
    "z = load('HSD40.npy')"
   ]
  },
  {
   "cell_type": "code",
   "execution_count": null,
   "metadata": {
    "collapsed": false
   },
   "outputs": [],
   "source": [
    "# Then we iteratively optimise various trajectories\n",
    "%matplotlib inline\n",
    "%config InlineBackend.figure_format = 'svg'\n",
    "plt.close('all')\n",
    "plt.figure()\n",
    "for i in range(ntraj):\n",
    "    # Initialise the initial state randomly\n",
    "    si = random.random()*(siub - silb) + silb\n",
    "    prob = Hermite_Simpson(Point_Lander(si), nsegs=40)\n",
    "    # create a population for the new problem\n",
    "    pop = population(prob)\n",
    "    # and add the previous population decision vector\n",
    "    pop.push_back(z)\n",
    "    # then evolve the trajectory\n",
    "    pop = alg1.evolve(pop)\n",
    "    # name the file to save to\n",
    "    filename = 'Hermite_Simpson_Decision_' + str(i)\n",
    "    # extract the decision vector\n",
    "    z = pop.champion.x\n",
    "    # save it!\n",
    "    save(filename, z)\n",
    "    # figure out what the decision means\n",
    "    tf, cb, s, c = prob.Decode(z)\n",
    "    # plot the trajectory\n",
    "    plt.plot(s[:,0], s[:,1])\n",
    "plt.xlabel('Cross Range [m]')\n",
    "plt.ylabel('Altitude [m]')\n",
    "plt.axes().set_aspect('equal', 'datalim')\n",
    "\n",
    "plt.show()"
   ]
  },
  {
   "cell_type": "code",
   "execution_count": null,
   "metadata": {
    "collapsed": false
   },
   "outputs": [],
   "source": [
    "%matplotlib inline\n",
    "%config InlineBackend.figure_format = 'svg'\n",
    "plt.close('all')\n",
    "plt.figure()\n",
    "fpre = 'Hermite_Simpson_Decision_'\n",
    "for i in range(50):\n",
    "    fname = fpre + str(i) + '.npy'\n",
    "    z = load(fname)\n",
    "    tf, cb, s, c = prob.Decode(z)\n",
    "    plt.plot(s[:,0], s[:,1], 'k')\n",
    "plt.title('Homotopic Trajectory Transitioning')\n",
    "plt.xlabel('Cross Range [m]')\n",
    "plt.ylabel('Altitude [m]')\n",
    "plt.savefig('Homotopic_Data.png', format='png',transparent=True, bbox_inches='tight')\n",
    "plt.show()"
   ]
  },
  {
   "cell_type": "code",
   "execution_count": null,
   "metadata": {
    "collapsed": true
   },
   "outputs": [],
   "source": []
  }
 ],
 "metadata": {
  "kernelspec": {
   "display_name": "Python 2",
   "language": "python",
   "name": "python2"
  },
  "language_info": {
   "codemirror_mode": {
    "name": "ipython",
    "version": 2
   },
   "file_extension": ".py",
   "mimetype": "text/x-python",
   "name": "python",
   "nbconvert_exporter": "python",
   "pygments_lexer": "ipython2",
   "version": "2.7.12"
  }
 },
 "nbformat": 4,
 "nbformat_minor": 1
}
