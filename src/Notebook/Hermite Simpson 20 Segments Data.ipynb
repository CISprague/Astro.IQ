{
 "cells": [
  {
   "cell_type": "markdown",
   "metadata": {},
   "source": [
    "# Representing a Solution"
   ]
  },
  {
   "cell_type": "code",
   "execution_count": 1,
   "metadata": {
    "collapsed": true
   },
   "outputs": [],
   "source": [
    "# We first import some resources\n",
    "import sys\n",
    "sys.path.append('../')\n",
    "import matplotlib.pyplot as plt\n",
    "from numpy import *\n",
    "from PyGMO import *\n",
    "from Trajectory import *\n",
    "from Optimisation import *"
   ]
  },
  {
   "cell_type": "code",
   "execution_count": 2,
   "metadata": {
    "collapsed": false
   },
   "outputs": [],
   "source": [
    "# Initialise a model and problem\n",
    "model = Point_Lander()\n",
    "prob  = Hermite_Simpson_Seperated(model)"
   ]
  },
  {
   "cell_type": "code",
   "execution_count": 3,
   "metadata": {
    "collapsed": false
   },
   "outputs": [],
   "source": [
    "# Load the base decision vector\n",
    "basepath = '../Data/Hermite_Simpson_Seperated/20Seg/'\n",
    "fname    = basepath + 'HSS_20_Base.npy'\n",
    "z = load(fname)"
   ]
  },
  {
   "cell_type": "code",
   "execution_count": 4,
   "metadata": {
    "collapsed": false
   },
   "outputs": [
    {
     "data": {
      "image/png": "[encoded data removed]",
      "text/plain": [
       "<matplotlib.figure.Figure at 0x7f4821d1afd0>"
      ]
     },
     "metadata": {},
     "output_type": "display_data"
    }
   ],
   "source": [
    "# Visualise initial decision\n",
    "tf, sb, cb, s, c = prob.Decode(z)\n",
    "plt.plot(s[:,0], s[:,1], 'k.-')\n",
    "plt.show()"
   ]
  },
  {
   "cell_type": "code",
   "execution_count": 5,
   "metadata": {
    "collapsed": false
   },
   "outputs": [],
   "source": [
    "# We generate a list of random initial states\n",
    "ntraj = 10000\n",
    "sil = []\n",
    "rl = []\n",
    "for i in range(ntraj):\n",
    "    state = random.random()*(model.siub - model.silb) + model.silb\n",
    "    sil.append(state)\n",
    "    # We compute the norm of position and velocity\n",
    "    r = linalg.norm(state[0:4])\n",
    "    rl.append(r)\n",
    "# We compute the indicies of the sorted distances\n",
    "seq = argsort(rl)\n",
    "sil = array(sil)\n",
    "sil = sil[seq]"
   ]
  },
  {
   "cell_type": "code",
   "execution_count": null,
   "metadata": {
    "collapsed": true
   },
   "outputs": [],
   "source": [
    "# Use SLSQP\n",
    "algo = algorithm.scipy_slsqp(max_iter=5000, screen_output=True)"
   ]
  },
  {
   "cell_type": "code",
   "execution_count": null,
   "metadata": {
    "collapsed": false
   },
   "outputs": [
    {
     "name": "stdout",
     "output_type": "stream",
     "text": [
      "  NIT    FC           OBJFUN            GNORM\n",
      "    1   331    -9.244030E+03     1.000000E+00\n",
      "    2   662    -9.243707E+03     1.000000E+00\n",
      "    3   993    -9.242096E+03     1.000000E+00\n",
      "    4  1324    -9.234454E+03     1.000000E+00\n",
      "    5  1655    -9.203108E+03     1.000000E+00\n",
      "    6  1986    -9.186183E+03     1.000000E+00\n",
      "    7  2317    -9.161133E+03     1.000000E+00\n",
      "    8  2648    -9.149539E+03     1.000000E+00\n",
      "    9  2979    -9.130920E+03     1.000000E+00\n",
      "   10  3310    -9.088131E+03     1.000000E+00\n",
      "   11  3641    -9.066346E+03     1.000000E+00\n",
      "   12  3972    -9.050870E+03     1.000000E+00\n",
      "   13  4303    -9.046684E+03     1.000000E+00\n",
      "   14  4634    -9.037919E+03     1.000000E+00\n",
      "   15  4965    -9.002132E+03     1.000000E+00\n",
      "   16  5296    -8.992017E+03     1.000000E+00\n",
      "   17  5627    -8.966369E+03     1.000000E+00\n",
      "   18  5958    -8.964084E+03     1.000000E+00\n",
      "   19  6289    -8.956791E+03     1.000000E+00\n",
      "   20  6620    -8.948277E+03     1.000000E+00\n",
      "   21  6951    -8.919836E+03     1.000000E+00\n",
      "   22  7282    -8.903498E+03     1.000000E+00\n",
      "   23  7613    -8.843493E+03     1.000000E+00\n",
      "   24  7944    -8.783766E+03     1.000000E+00\n",
      "   25  8275    -8.717459E+03     1.000000E+00\n"
     ]
    }
   ],
   "source": [
    "# We then iteratively optimise for each initial state\n",
    "for i in range(ntraj):\n",
    "    # Instantiate the model\n",
    "    model = Point_Lander(sil[i])\n",
    "    # Instantiate the problem\n",
    "    prob  = Hermite_Simpson_Seperated(model, nsegs=20)\n",
    "    # Create an empty population\n",
    "    pop = population(prob)\n",
    "    # Add the previous decision vectory (continuation)\n",
    "    pop.push_back(z)\n",
    "    # Evolve the trajectory\n",
    "    pop = algo.evolve(pop)\n",
    "    # The filename for the trajectory\n",
    "    fname = basepath + 'HSS_20_' + str(i)\n",
    "    # Extract decision for next loop\n",
    "    z = pop.champion.x\n",
    "    # Save the solution for the database!\n",
    "    save(fname, z)"
   ]
  }
 ],
 "metadata": {
  "kernelspec": {
   "display_name": "Python 2",
   "language": "python",
   "name": "python2"
  },
  "language_info": {
   "codemirror_mode": {
    "name": "ipython",
    "version": 2
   },
   "file_extension": ".py",
   "mimetype": "text/x-python",
   "name": "python",
   "nbconvert_exporter": "python",
   "pygments_lexer": "ipython2",
   "version": "2.7.12"
  }
 },
 "nbformat": 4,
 "nbformat_minor": 1
}
