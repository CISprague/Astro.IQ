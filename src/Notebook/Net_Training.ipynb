{
 "cells": [
  {
   "cell_type": "code",
   "execution_count": null,
   "metadata": {
    "collapsed": false
   },
   "outputs": [],
   "source": [
    "import sys\n",
    "sys.path.append('../')\n",
    "from numpy import *\n",
    "import seaborn as sns\n",
    "import pandas as pd\n",
    "import matplotlib.pyplot as plt\n",
    "from ML import MLP"
   ]
  },
  {
   "cell_type": "code",
   "execution_count": null,
   "metadata": {
    "collapsed": false
   },
   "outputs": [],
   "source": [
    "# We load the data to be regressed\n",
    "data = load(\"../Data/ML/Mars_Far.npy\")"
   ]
  },
  {
   "cell_type": "code",
   "execution_count": null,
   "metadata": {
    "collapsed": false
   },
   "outputs": [],
   "source": [
    "'''\n",
    "Here we instantiate a multi-layer perceptron with 4 hidden layers,\n",
    "each with __ neurons (features). We also state the input columns\n",
    "and output columns.\n",
    "'''\n",
    "\n",
    "iin    = [0,1,2,3,4]   # Input the state\n",
    "iout   = [5,6]         # Target the controls\n",
    "layers = [20,20] # Hidden layer structure\n",
    "\n",
    "# Instantiate the artificial neural network\n",
    "net1 = MLP(\"Mars_Far\", \"../Data/ML/\")\n",
    "net1.build(len(iin), len(iout), layers)\n",
    "net1.scale(data, iin, iout)"
   ]
  },
  {
   "cell_type": "code",
   "execution_count": null,
   "metadata": {
    "collapsed": false
   },
   "outputs": [],
   "source": [
    "dps = data[:3,iin]\n",
    "net1.predict(dps)"
   ]
  },
  {
   "cell_type": "code",
   "execution_count": null,
   "metadata": {
    "collapsed": true
   },
   "outputs": [],
   "source": []
  }
 ],
 "metadata": {
  "kernelspec": {
   "display_name": "Python 2",
   "language": "python",
   "name": "python2"
  },
  "language_info": {
   "codemirror_mode": {
    "name": "ipython",
    "version": 2
   },
   "file_extension": ".py",
   "mimetype": "text/x-python",
   "name": "python",
   "nbconvert_exporter": "python",
   "pygments_lexer": "ipython2",
   "version": "2.7.12"
  }
 },
 "nbformat": 4,
 "nbformat_minor": 1
}
