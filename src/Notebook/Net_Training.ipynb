{
 "cells": [
  {
   "cell_type": "code",
   "execution_count": 1,
   "metadata": {
    "collapsed": false
   },
   "outputs": [
    {
     "name": "stderr",
     "output_type": "stream",
     "text": [
      "/usr/lib/python2.7/dist-packages/matplotlib/__init__.py:874: UserWarning: axes.color_cycle is deprecated and replaced with axes.prop_cycle; please use the latter.\n",
      "  warnings.warn(self.msg_depr % (key, alt_key))\n"
     ]
    }
   ],
   "source": [
    "import sys\n",
    "sys.path.append('../')\n",
    "from numpy import *\n",
    "import seaborn as sns\n",
    "import pandas as pd\n",
    "import matplotlib.pyplot as plt\n",
    "from ML import MLP"
   ]
  },
  {
   "cell_type": "code",
   "execution_count": 2,
   "metadata": {
    "collapsed": false
   },
   "outputs": [],
   "source": [
    "# We load the data to be regressed\n",
    "data = load(\"../Data/ML/Mars_Far.npy\")"
   ]
  },
  {
   "cell_type": "code",
   "execution_count": 3,
   "metadata": {
    "collapsed": false
   },
   "outputs": [],
   "source": [
    "'''\n",
    "Here we instantiate a multi-layer perceptron with 4 hidden layers,\n",
    "each with __ neurons (features). We also state the input columns\n",
    "and output columns.\n",
    "'''\n",
    "\n",
    "iin    = [0,1,2,3,4]   # Input the state\n",
    "iout   = [5,6]         # Target the controls\n",
    "layers = [20,20] # Hidden layer structure\n",
    "\n",
    "# Instantiate the artificial neural network\n",
    "net1 = MLP(\"Mars_Far\", \"../Data/ML/\")\n",
    "net1.build(data, iin, iout, layers)"
   ]
  },
  {
   "cell_type": "code",
   "execution_count": 4,
   "metadata": {
    "collapsed": false
   },
   "outputs": [],
   "source": [
    "# We train the neural net (nonlinear regression)\n",
    "#net1.train(1e-2, 2000)"
   ]
  },
  {
   "cell_type": "code",
   "execution_count": 5,
   "metadata": {
    "collapsed": false
   },
   "outputs": [],
   "source": [
    "# We save it to where it lives\n",
    "#print net1.save()\n",
    "net1.load(net1.path)"
   ]
  },
  {
   "cell_type": "code",
   "execution_count": 6,
   "metadata": {
    "collapsed": false
   },
   "outputs": [
    {
     "name": "stdout",
     "output_type": "stream",
     "text": [
      "[-3003.20255298  3610.03013931   -75.5395321    -65.83635707  7525.01646505]\n"
     ]
    }
   ],
   "source": [
    "# A sample data point\n",
    "datpt = data[0,iin]\n",
    "print datpt"
   ]
  },
  {
   "cell_type": "code",
   "execution_count": 7,
   "metadata": {
    "collapsed": false
   },
   "outputs": [
    {
     "name": "stdout",
     "output_type": "stream",
     "text": [
      "[[ 0.75552094  0.47121352]]\n"
     ]
    }
   ],
   "source": [
    "# The prediction of our net\n",
    "print net1.predict(datpt) #[[ 0.75552094  0.47121352]]"
   ]
  },
  {
   "cell_type": "code",
   "execution_count": null,
   "metadata": {
    "collapsed": true
   },
   "outputs": [],
   "source": []
  }
 ],
 "metadata": {
  "kernelspec": {
   "display_name": "Python 2",
   "language": "python",
   "name": "python2"
  },
  "language_info": {
   "codemirror_mode": {
    "name": "ipython",
    "version": 2
   },
   "file_extension": ".py",
   "mimetype": "text/x-python",
   "name": "python",
   "nbconvert_exporter": "python",
   "pygments_lexer": "ipython2",
   "version": "2.7.12"
  }
 },
 "nbformat": 4,
 "nbformat_minor": 1
}
