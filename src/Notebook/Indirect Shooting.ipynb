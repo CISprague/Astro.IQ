{
 "cells": [
  {
   "cell_type": "markdown",
   "metadata": {},
   "source": [
    "# Indirect Shooting Trajectory Optimisation\n",
    "Within this method, one must find the appropriate initial costate variables in order to propel the dynamical system optimally to its target through Pontryagin's maxmimum principle."
   ]
  },
  {
   "cell_type": "code",
   "execution_count": 1,
   "metadata": {
    "collapsed": false
   },
   "outputs": [],
   "source": [
    "# We start be acquiring our resources\n",
    "import sys\n",
    "sys.path.append('../')\n",
    "from Trajectory import Point_Lander \n",
    "from Optimisation import Indirect_Shooting"
   ]
  },
  {
   "cell_type": "code",
   "execution_count": 2,
   "metadata": {
    "collapsed": false
   },
   "outputs": [],
   "source": [
    "# We instantiate a dynamical model\n",
    "model = Point_Lander()\n",
    "# and the optimisation problem\n",
    "prob  = Indirect_Shooting(model)"
   ]
  },
  {
   "cell_type": "code",
   "execution_count": 3,
   "metadata": {
    "collapsed": false
   },
   "outputs": [],
   "source": [
    "# Use PyGMO to optimise\n",
    "from PyGMO import *"
   ]
  },
  {
   "cell_type": "code",
   "execution_count": 4,
   "metadata": {
    "collapsed": false
   },
   "outputs": [],
   "source": [
    "pop = population(prob, 2)"
   ]
  },
  {
   "cell_type": "code",
   "execution_count": null,
   "metadata": {
    "collapsed": false
   },
   "outputs": [],
   "source": [
    "algo = algorithm.scipy_slsqp(max_iter=3000, screen_output=True)\n",
    "algo = algorithm.mbh(algo, screen_output=True)"
   ]
  },
  {
   "cell_type": "code",
   "execution_count": null,
   "metadata": {
    "collapsed": false
   },
   "outputs": [
    {
     "name": "stdout",
     "output_type": "stream",
     "text": [
      "  NIT    FC           OBJFUN            GNORM\n",
      "    1     8     1.000000E+00     0.000000E+00\n",
      "    2    17     1.000000E+00     0.000000E+00\n",
      "    3    35     1.000000E+00     0.000000E+00\n",
      "    4    43     1.000000E+00     0.000000E+00\n",
      "    5    52     1.000000E+00     0.000000E+00\n",
      "    6    70     1.000000E+00     0.000000E+00\n",
      "    7    88     1.000000E+00     0.000000E+00\n",
      "    8    98     1.000000E+00     0.000000E+00\n",
      "    9   107     1.000000E+00     0.000000E+00\n",
      "   10   125     1.000000E+00     0.000000E+00\n",
      "   11   133     1.000000E+00     0.000000E+00\n",
      "   12   151     1.000000E+00     0.000000E+00\n",
      "   13   169     1.000000E+00     0.000000E+00\n",
      "   14   187     1.000000E+00     0.000000E+00\n",
      "   15   205     1.000000E+00     0.000000E+00\n",
      "   16   223     1.000000E+00     0.000000E+00\n",
      "   17   241     1.000000E+00     0.000000E+00\n",
      "   18   259     1.000000E+00     0.000000E+00\n",
      "   19   267     1.000000E+00     0.000000E+00\n",
      "   20   285     1.000000E+00     0.000000E+00\n",
      "   21   303     1.000000E+00     0.000000E+00\n",
      "   22   321     1.000000E+00     0.000000E+00\n",
      "   23   333     1.000000E+00     0.000000E+00\n",
      "   24   351     1.000000E+00     0.000000E+00\n",
      "   25   369     1.000000E+00     0.000000E+00\n",
      "   26   387     1.000000E+00     0.000000E+00\n",
      "   27   405     1.000000E+00     0.000000E+00\n",
      "   28   423     1.000000E+00     0.000000E+00\n",
      "   29   441     1.000000E+00     0.000000E+00\n",
      "   30   459     1.000000E+00     0.000000E+00\n",
      "   31   477     1.000000E+00     0.000000E+00\n",
      "   32   495     1.000000E+00     0.000000E+00\n",
      "   33   513     1.000000E+00     0.000000E+00\n",
      "   34   531     1.000000E+00     0.000000E+00\n",
      "   35   549     1.000000E+00     0.000000E+00\n",
      "   36   567     1.000000E+00     0.000000E+00\n",
      "   37   585     1.000000E+00     0.000000E+00\n",
      "   38   603     1.000000E+00     0.000000E+00\n",
      "   39   621     1.000000E+00     0.000000E+00\n",
      "   40   639     1.000000E+00     0.000000E+00\n",
      "   41   657     1.000000E+00     0.000000E+00\n",
      "   42   675     1.000000E+00     0.000000E+00\n"
     ]
    }
   ],
   "source": [
    "pop = algo.evolve(pop)"
   ]
  },
  {
   "cell_type": "code",
   "execution_count": null,
   "metadata": {
    "collapsed": true
   },
   "outputs": [],
   "source": []
  }
 ],
 "metadata": {
  "kernelspec": {
   "display_name": "Python 2",
   "language": "python",
   "name": "python2"
  },
  "language_info": {
   "codemirror_mode": {
    "name": "ipython",
    "version": 2
   },
   "file_extension": ".py",
   "mimetype": "text/x-python",
   "name": "python",
   "nbconvert_exporter": "python",
   "pygments_lexer": "ipython2",
   "version": "2.7.12"
  }
 },
 "nbformat": 4,
 "nbformat_minor": 1
}
