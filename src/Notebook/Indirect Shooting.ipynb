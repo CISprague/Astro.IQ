{
 "cells": [
  {
   "cell_type": "markdown",
   "metadata": {},
   "source": [
    "# Indirect Shooting Trajectory Optimisation\n",
    "Within this method, one must find the appropriate initial costate variables in order to propel the dynamical system optimally to its target through Pontryagin's maxmimum principle."
   ]
  },
  {
   "cell_type": "code",
   "execution_count": 1,
   "metadata": {
    "collapsed": false
   },
   "outputs": [],
   "source": [
    "# We start be acquiring our resources\n",
    "import sys\n",
    "sys.path.append('../')\n",
    "from Trajectory import Point_Lander \n",
    "from Optimisation import Indirect_Shooting\n",
    "from PyGMO import *\n",
    "from numpy import *\n",
    "import matplotlib.pyplot as plt"
   ]
  },
  {
   "cell_type": "code",
   "execution_count": 2,
   "metadata": {
    "collapsed": false
   },
   "outputs": [],
   "source": [
    "# We instantiate a dynamical model\n",
    "model = Point_Lander()\n",
    "# and the optimisation problem\n",
    "prob  = Indirect_Shooting(model)\n",
    "# we then convert the constrainted problem to box bounded\n",
    "#prob  = problem.con2uncon(prob, 'feasibility')"
   ]
  },
  {
   "cell_type": "code",
   "execution_count": 3,
   "metadata": {
    "collapsed": false
   },
   "outputs": [],
   "source": [
    "# Self-adaptive differential evolution\n",
    "algo1 = algorithm.jde(50, screen_output=True)\n",
    "algo2 = algorithm.scipy_slsqp(max_iter=2000, screen_output=True)\n",
    "algo3 = algorithm.mbh(algo2, screen_output=True)"
   ]
  },
  {
   "cell_type": "code",
   "execution_count": 4,
   "metadata": {
    "collapsed": false
   },
   "outputs": [],
   "source": [
    "pop = population(prob, 10)"
   ]
  },
  {
   "cell_type": "code",
   "execution_count": 5,
   "metadata": {
    "collapsed": false
   },
   "outputs": [
    {
     "data": {
      "image/png": "[encoded data removed]",
      "text/plain": [
       "<matplotlib.figure.Figure at 0x7efe2d2c6e90>"
      ]
     },
     "metadata": {},
     "output_type": "display_data"
    }
   ],
   "source": [
    "z   = array(pop.champion.x)\n",
    "tf  = z[-1]\n",
    "li  = z[:-1]\n",
    "fsi = hstack((model.si, li))\n",
    "t, s, c = model.Propagate.Indirect(fsi, tf, 50)\n",
    "plt.plot(s[:,0], s[:,1], 'k.-')\n",
    "plt.xlim((model.slb[0], model.sub[0]))\n",
    "plt.ylim((model.slb[1], model.sub[1]))\n",
    "plt.show()"
   ]
  },
  {
   "cell_type": "code",
   "execution_count": null,
   "metadata": {
    "collapsed": false
   },
   "outputs": [
    {
     "name": "stdout",
     "output_type": "stream",
     "text": [
      "  NIT    FC           OBJFUN            GNORM\n",
      "    1     8     1.000000E+00     0.000000E+00\n",
      "    2    26     1.000000E+00     0.000000E+00\n",
      "    3    34     1.000000E+00     0.000000E+00\n",
      "    4    52     1.000000E+00     0.000000E+00\n"
     ]
    }
   ],
   "source": [
    "pop = algo3.evolve(pop)"
   ]
  },
  {
   "cell_type": "code",
   "execution_count": null,
   "metadata": {
    "collapsed": false
   },
   "outputs": [],
   "source": [
    "z   = array(pop.champion.x)\n",
    "tf  = z[-1]\n",
    "li  = z[:-1]\n",
    "fsi = hstack((model.si, li))\n",
    "t, s, c = model.Propagate.Indirect(fsi, tf, 50)\n",
    "plt.plot(s[:,0], s[:,1], 'k.-')\n",
    "plt.xlim((model.slb[0], model.sub[0]))\n",
    "plt.ylim((model.slb[1], model.sub[1]))\n",
    "plt.show()"
   ]
  },
  {
   "cell_type": "code",
   "execution_count": null,
   "metadata": {
    "collapsed": false
   },
   "outputs": [],
   "source": [
    "plt.xlim((model.slb[0], model.sub[0]))\n",
    "plt.ylim((model.slb[1], model.sub[1]))\n",
    "for i in range(10):\n",
    "    pop = algo1.evolve(pop)\n",
    "    z   = array(pop.champion.x)\n",
    "    tf  = z[-1]\n",
    "    li  = z[:-1]\n",
    "    fsi = hstack((model.si, li))\n",
    "    t, s, c = model.Propagate.Indirect(fsi, tf, 50)\n",
    "    plt.plot(s[:,0], s[:,1], 'k.-')\n",
    "plt.show()"
   ]
  },
  {
   "cell_type": "code",
   "execution_count": null,
   "metadata": {
    "collapsed": false
   },
   "outputs": [],
   "source": [
    "plt.xlim((model.slb[0], model.sub[0]))\n",
    "plt.ylim((model.slb[1], model.sub[1]))\n",
    "for i in range(100):\n",
    "    pop = algo1.evolve(pop)\n",
    "    z   = array(pop.champion.x)\n",
    "    tf  = z[-1]\n",
    "    li  = z[:-1]\n",
    "    fsi = hstack((model.si, li))\n",
    "    t, s, c = model.Propagate.Indirect(fsi, tf, 50)\n",
    "    plt.plot(s[:,0], s[:,1])\n",
    "plt.show()"
   ]
  },
  {
   "cell_type": "code",
   "execution_count": null,
   "metadata": {
    "collapsed": true
   },
   "outputs": [],
   "source": []
  }
 ],
 "metadata": {
  "kernelspec": {
   "display_name": "Python 2",
   "language": "python",
   "name": "python2"
  },
  "language_info": {
   "codemirror_mode": {
    "name": "ipython",
    "version": 2
   },
   "file_extension": ".py",
   "mimetype": "text/x-python",
   "name": "python",
   "nbconvert_exporter": "python",
   "pygments_lexer": "ipython2",
   "version": "2.7.12"
  }
 },
 "nbformat": 4,
 "nbformat_minor": 1
}
