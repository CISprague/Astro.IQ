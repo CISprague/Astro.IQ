{
 "cells": [
  {
   "cell_type": "markdown",
   "metadata": {},
   "source": [
    "# Indirect Shooting Trajectory Optimisation\n",
    "Within this method, one must find the appropriate initial costate variables in order to propel the dynamical system optimally to its target through Pontryagin's maxmimum principle."
   ]
  },
  {
   "cell_type": "code",
   "execution_count": 1,
   "metadata": {
    "collapsed": false
   },
   "outputs": [
    {
     "data": {
      "text/plain": [
       "[0, 1, 2, 3]"
      ]
     },
     "execution_count": 1,
     "metadata": {},
     "output_type": "execute_result"
    }
   ],
   "source": [
    "# We start be acquiring our resources\n",
    "import sys\n",
    "sys.path.append('../')\n",
    "from Trajectory import Point_Lander \n",
    "from Optimisation import Indirect_Shooting\n",
    "from PyGMO import *\n",
    "from numpy import *\n",
    "import matplotlib.pyplot as plt\n",
    "import ipyparallel\n",
    "clients = ipyparallel.Client()\n",
    "clients.ids"
   ]
  },
  {
   "cell_type": "code",
   "execution_count": 2,
   "metadata": {
    "collapsed": false
   },
   "outputs": [],
   "source": [
    "# We instantiate a dynamical model\n",
    "model = Point_Lander(a=0)\n",
    "# and the optimisation problem\n",
    "prob1  = Indirect_Shooting(model)\n",
    "# we then convert the constrainted problem to box bounded\n",
    "prob2  = problem.con2uncon(prob1, 'feasibility')"
   ]
  },
  {
   "cell_type": "code",
   "execution_count": 3,
   "metadata": {
    "collapsed": false
   },
   "outputs": [],
   "source": [
    "# Self-adaptive differential evolution\n",
    "algo1 = algorithm.jde(50, screen_output=True)\n",
    "algo2 = algorithm.scipy_slsqp(max_iter=2000, screen_output=True)\n",
    "algo3 = algorithm.ms(algo2)\n",
    "algo4 = algorithm.monte_carlo()"
   ]
  },
  {
   "cell_type": "code",
   "execution_count": 4,
   "metadata": {
    "collapsed": false
   },
   "outputs": [],
   "source": [
    "pop = population(prob1,1)"
   ]
  },
  {
   "cell_type": "code",
   "execution_count": 5,
   "metadata": {
    "collapsed": false
   },
   "outputs": [
    {
     "data": {
      "image/png": "[encoded data removed]",
      "text/plain": [
       "<matplotlib.figure.Figure at 0x7f553dd5f050>"
      ]
     },
     "metadata": {},
     "output_type": "display_data"
    }
   ],
   "source": [
    "plt.close('all')\n",
    "plt.xlim((model.slb[0], model.sub[0]))\n",
    "plt.ylim((model.slb[1], model.sub[1]))\n",
    "tf, fsi = prob1.Decode(pop.champion.x)\n",
    "t, fs, c = model.Propagate.Indirect(fsi, tf, 20)\n",
    "plt.plot(fs[:,0], fs[:,1], 'k.-')\n",
    "plt.show()"
   ]
  },
  {
   "cell_type": "code",
   "execution_count": null,
   "metadata": {
    "collapsed": false
   },
   "outputs": [
    {
     "name": "stdout",
     "output_type": "stream",
     "text": [
      "  NIT    FC           OBJFUN            GNORM\n",
      "    1     8     1.000000E+00     0.000000E+00\n",
      "    2    26     1.000000E+00     0.000000E+00\n",
      "    3    44     1.000000E+00     0.000000E+00\n",
      "    4    62     1.000000E+00     0.000000E+00\n",
      "    5    80     1.000000E+00     0.000000E+00\n",
      "    6    98     1.000000E+00     0.000000E+00\n",
      "    7   116     1.000000E+00     0.000000E+00\n",
      "    8   134     1.000000E+00     0.000000E+00\n",
      "    9   152     1.000000E+00     0.000000E+00\n",
      "   10   170     1.000000E+00     0.000000E+00\n",
      "   11   188     1.000000E+00     0.000000E+00\n",
      "   12   206     1.000000E+00     0.000000E+00\n",
      "   13   224     1.000000E+00     0.000000E+00\n",
      "   14   242     1.000000E+00     0.000000E+00\n",
      "   15   260     1.000000E+00     0.000000E+00\n",
      "   16   278     1.000000E+00     0.000000E+00\n",
      "   17   296     1.000000E+00     0.000000E+00\n",
      "   18   312     1.000000E+00     0.000000E+00\n",
      "   19   329     1.000000E+00     0.000000E+00\n",
      "   20   347     1.000000E+00     0.000000E+00\n",
      "   21   365     1.000000E+00     0.000000E+00\n",
      "   22   383     1.000000E+00     0.000000E+00\n",
      "   23   401     1.000000E+00     0.000000E+00\n",
      "   24   419     1.000000E+00     0.000000E+00\n",
      "   25   437     1.000000E+00     0.000000E+00\n",
      "   26   455     1.000000E+00     0.000000E+00\n",
      "   27   473     1.000000E+00     0.000000E+00\n",
      "   28   491     1.000000E+00     0.000000E+00\n",
      "   29   509     1.000000E+00     0.000000E+00\n",
      "   30   527     1.000000E+00     0.000000E+00\n",
      "   31   545     1.000000E+00     0.000000E+00\n",
      "   32   563     1.000000E+00     0.000000E+00\n",
      "   33   581     1.000000E+00     0.000000E+00\n",
      "   34   599     1.000000E+00     0.000000E+00\n",
      "   35   617     1.000000E+00     0.000000E+00\n",
      "   36   635     1.000000E+00     0.000000E+00\n"
     ]
    }
   ],
   "source": [
    "pop = algo2.evolve(pop)"
   ]
  },
  {
   "cell_type": "code",
   "execution_count": null,
   "metadata": {
    "collapsed": false
   },
   "outputs": [],
   "source": [
    "plt.close('all')\n",
    "plt.xlim((model.slb[0], model.sub[0]))\n",
    "plt.ylim((model.slb[1], model.sub[1]))\n",
    "tf, fsi = prob1.Decode(pop.champion.x)\n",
    "t, fs, c = model.Propagate.Indirect(fsi, tf, 20)\n",
    "plt.plot(fs[:,0], fs[:,1], 'k.-')\n",
    "plt.show()\n",
    "plt.plot(c[:,0], 'k.-')\n",
    "plt.show()"
   ]
  },
  {
   "cell_type": "code",
   "execution_count": null,
   "metadata": {
    "collapsed": true
   },
   "outputs": [],
   "source": []
  }
 ],
 "metadata": {
  "kernelspec": {
   "display_name": "Python 2",
   "language": "python",
   "name": "python2"
  },
  "language_info": {
   "codemirror_mode": {
    "name": "ipython",
    "version": 2
   },
   "file_extension": ".py",
   "mimetype": "text/x-python",
   "name": "python",
   "nbconvert_exporter": "python",
   "pygments_lexer": "ipython2",
   "version": "2.7.12"
  }
 },
 "nbformat": 4,
 "nbformat_minor": 1
}
