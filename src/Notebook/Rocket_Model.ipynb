{
 "cells": [
  {
   "cell_type": "markdown",
   "metadata": {},
   "source": [
    "# Rocket Model Derrivation"
   ]
  },
  {
   "cell_type": "code",
   "execution_count": 1,
   "metadata": {
    "collapsed": true
   },
   "outputs": [],
   "source": [
    "from sympy import *\n",
    "init_printing()"
   ]
  },
  {
   "cell_type": "code",
   "execution_count": 2,
   "metadata": {
    "collapsed": false
   },
   "outputs": [],
   "source": [
    "# State\n",
    "x,y,vx,vy,theta,omega,m = symbols('x y vx vy theta, omega, m')\n",
    "r = Matrix([x, y]) # Position\n",
    "v = Matrix([vx, vy]) # Velocity\n",
    "s = Matrix([r, v,[theta], [omega], [m]])\n",
    "\n",
    "# Costate\n",
    "lx,ly,lvx,lvy,ltheta,lomega,lm = symbols('lx ly lvx lvy ltheta lomega, lm')\n",
    "lr = Matrix([lx, ly])\n",
    "lv = Matrix([lvx,lvy])\n",
    "l  = Matrix([lr, lv, [ltheta], [lomega], [lm]])\n",
    "\n",
    "# Parametres\n",
    "c1, c2, c3, g, a = symbols('c1 c2 c3 g a')\n",
    "\n",
    "# Control\n",
    "u, ut1, ut2 = symbols('u ut1 ut2')\n",
    "c  = Matrix([u, ut1, ut2])\n",
    "\n",
    "# Fullstate\n",
    "fs = Matrix([s,l])"
   ]
  },
  {
   "cell_type": "code",
   "execution_count": 3,
   "metadata": {
    "collapsed": false
   },
   "outputs": [],
   "source": [
    "# State dynamics\n",
    "dx     = vx\n",
    "dy     = vy\n",
    "dvx    = c1*u/m*ut1\n",
    "dvy    = c1*u/m*ut2 - g\n",
    "dtheta = omega\n",
    "domega = -c1/c3*u/m*(ut1*cos(theta) + ut2*sin(theta))\n",
    "dm     = -c1/c2*u\n",
    "ds     = Matrix([dx, dy, dvx, dvy, dtheta, domega, dm])"
   ]
  },
  {
   "cell_type": "code",
   "execution_count": 4,
   "metadata": {
    "collapsed": false
   },
   "outputs": [],
   "source": [
    "# Homotopic Cost Lagrangian\n",
    "L = a*c1/c2*u+(1-a)*c1**2/c2*u**2"
   ]
  },
  {
   "cell_type": "code",
   "execution_count": 5,
   "metadata": {
    "collapsed": false
   },
   "outputs": [],
   "source": [
    "# Hamiltonian\n",
    "H = l.dot(ds) + L"
   ]
  },
  {
   "cell_type": "code",
   "execution_count": 6,
   "metadata": {
    "collapsed": false
   },
   "outputs": [],
   "source": [
    "# Costate dynamics\n",
    "dl = -Matrix([diff(H, i) for i in s])"
   ]
  },
  {
   "cell_type": "code",
   "execution_count": 10,
   "metadata": {
    "collapsed": false
   },
   "outputs": [],
   "source": [
    "# Fullstate dynamics\n",
    "dfs = Matrix([ds, dl])"
   ]
  },
  {
   "cell_type": "code",
   "execution_count": 19,
   "metadata": {
    "collapsed": false
   },
   "outputs": [
    {
     "name": "stdout",
     "output_type": "stream",
     "text": [
      "([(x0, lomega/c3), (x1, x0*cos(theta)), (x2, x0*sin(theta)), (x3, 1/sqrt((lvx - x1)**2 + (lvy + x2)**2))], [Matrix([\n",
      "[x3*(-lvx + x1)],\n",
      "[x3*(-lvy - x2)]])])\n"
     ]
    }
   ],
   "source": [
    "lax = lvx - lomega /c3*cos(theta)\n",
    "lay = lvy + lomega /c3*sin(theta)\n",
    "la  = sqrt(lax**2 + lay**2)\n",
    "ut1s = -lax / la\n",
    "ut2s = -lay / la\n",
    "uts = Matrix([ut1s, ut2s])\n",
    "print cse(uts)"
   ]
  },
  {
   "cell_type": "code",
   "execution_count": null,
   "metadata": {
    "collapsed": true
   },
   "outputs": [],
   "source": []
  }
 ],
 "metadata": {
  "kernelspec": {
   "display_name": "Python 2",
   "language": "python",
   "name": "python2"
  },
  "language_info": {
   "codemirror_mode": {
    "name": "ipython",
    "version": 2
   },
   "file_extension": ".py",
   "mimetype": "text/x-python",
   "name": "python",
   "nbconvert_exporter": "python",
   "pygments_lexer": "ipython2",
   "version": "2.7.12"
  }
 },
 "nbformat": 4,
 "nbformat_minor": 1
}
