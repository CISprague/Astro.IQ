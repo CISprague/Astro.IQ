{
 "cells": [
  {
   "cell_type": "markdown",
   "metadata": {},
   "source": [
    "# Classical Runge-Kutta Method\n",
    "The *decision vector* of variables is given by\n",
    "$$\n",
    "\\pmb{z}^\\intercal = [\\pmb{s}_1, \\pmb{c}_1, \\bar{\\pmb{c}}_2,\n",
    "\\dots,\n",
    "\\bar{\\pmb{c}}_M, \\pmb{s}_M, \\pmb{c}_M]\n",
    "$$\n",
    ", where $\\pmb{s}$ is the system's state, $\\pmb{c}$ is the control at each node, and $\\bar{\\pmb{c}}$ is the control at each midpoint.\n",
    "\n",
    "The system's dynamics are enforced through the *equality consraints*\n",
    "$$\n",
    "\\begin{align}\n",
    "\\pmb{\\zeta}_k &= \n",
    "\\pmb{s}_{k+1} - \\pmb{s}_k - \\frac{1}{6}(\\pmb{k}_1 + 2\\pmb{k}_2 + 2\\pmb{k}_3 + \\pmb{k_4}) \\\\\n",
    "\\pmb{k}_1 &= h_k \\dot{\\pmb{s}}(\\pmb{s}_k, \\pmb{c}_k) \\\\\n",
    "\\pmb{k}_2 &= h_k \\dot{\\pmb{s}}(\\pmb{s}_k + \\frac{1}{2}\\pmb{k}_1, \\bar{\\pmb{c}}_{k+1}) \\\\\n",
    "\\pmb{k}_3 &= h_k \\dot{\\pmb{s}}(\\pmb{s}_k + \\frac{1}{2}\\pmb{k}_2, \\bar{\\pmb{c}}_{k+1}) \\\\\n",
    "\\pmb{k}_4 &= h_k \\dot{\\pmb{s}}(\\pmb{s}_k + \\pmb{k}_3, \\pmb{c}_{k+1}) \\\\\n",
    "h_k &= t_{k+1} - t{k}\n",
    "\\end{align}\n",
    "\\forall k \\in [1, \\dots, M-1]\n",
    "$$\n",
    ", where the number of trajectory *segements* is $N = M-1$."
   ]
  },
  {
   "cell_type": "code",
   "execution_count": 27,
   "metadata": {
    "collapsed": true
   },
   "outputs": [],
   "source": [
    "import sys\n",
    "sys.path.append('../')\n",
    "# Importy the resources\n",
    "from Trajectory import Point_Lander\n",
    "from Optimisation import Runge_Kutta"
   ]
  },
  {
   "cell_type": "code",
   "execution_count": 28,
   "metadata": {
    "collapsed": false
   },
   "outputs": [
    {
     "name": "stdout",
     "output_type": "stream",
     "text": [
      "State\n",
      "\tDimensions: 5\n",
      "\tInitial: [  5.00000000e+00   1.00000000e+03   5.00000000e+00   5.00000000e+00\n",
      "   9.90000000e+03]\n",
      "\tTarget: [    0.     0.     0.     0.  8000.]\n",
      "\tLower Bound: [-1000.     0.  -500.  -500.     0.]\n",
      "\tUpper Bound: [  1000.   2000.    500.    500.  10000.]\n",
      "Control\n",
      "\tDimensions: 3\n",
      "\tLower Bound: [-0.001 -1.    -0.001]\n",
      "\tUpper Bound: [ 1.  1.  1.]\n",
      "Time\n",
      "\tLower Bound: 1.0\n",
      "\tUpper Bound: 200.0\n",
      "\n"
     ]
    }
   ],
   "source": [
    "# Instantiate a dynamical model\n",
    "Apollo = Point_Lander(si=[5, 1000, 5, 5, 9900])\n",
    "print Apollo"
   ]
  },
  {
   "cell_type": "code",
   "execution_count": 29,
   "metadata": {
    "collapsed": false
   },
   "outputs": [
    {
     "name": "stdout",
     "output_type": "stream",
     "text": [
      "Problem name: <class 'Optimisation.Runge_Kutta'>\n",
      "\tGlobal dimension:\t\t\t1109\n",
      "\tInteger dimension:\t\t\t0\n",
      "\tFitness dimension:\t\t\t1\n",
      "\tConstraints dimension:\t\t\t509\n",
      "\tInequality constraints dimension:\t0\n",
      "\tLower bounds: [1, -1000, 0, -500, -500,  ... ]\n",
      "\tUpper bounds: [200, 1000, 2000, 500, 500,  ... ]\n",
      "\tConstraints tolerance: [1e-08, 1e-08, 1e-08, 1e-08, 1e-08,  ... ]\n",
      "\n"
     ]
    }
   ],
   "source": [
    "# Instantiate the optimisation problem\n",
    "Problem = Runge_Kutta(Apollo, nsegs=100)\n",
    "print Problem"
   ]
  },
  {
   "cell_type": "code",
   "execution_count": 30,
   "metadata": {
    "collapsed": false
   },
   "outputs": [],
   "source": [
    "# Generate a ballistic guess\n",
    "zguess = Problem.Guess.Ballistic(tf=30)"
   ]
  },
  {
   "cell_type": "code",
   "execution_count": 31,
   "metadata": {
    "collapsed": false
   },
   "outputs": [
    {
     "data": {
      "image/png": "[encoded data removed]",
      "text/plain": [
       "<matplotlib.figure.Figure at 0x7ff9a444f590>"
      ]
     },
     "metadata": {},
     "output_type": "display_data"
    }
   ],
   "source": [
    "# Visualise the guess\n",
    "import matplotlib.pyplot as plt\n",
    "tf, cnode, state, cmid = Problem.Decode(zguess)\n",
    "plt.plot(state[:,0], state[:,1], 'k.-')\n",
    "plt.show()"
   ]
  },
  {
   "cell_type": "code",
   "execution_count": 32,
   "metadata": {
    "collapsed": false
   },
   "outputs": [
    {
     "name": "stdout",
     "output_type": "stream",
     "text": [
      "Problem name: <class 'Optimisation.Runge_Kutta'>\n",
      "\tGlobal dimension:\t\t\t1109\n",
      "\tInteger dimension:\t\t\t0\n",
      "\tFitness dimension:\t\t\t1\n",
      "\tConstraints dimension:\t\t\t509\n",
      "\tInequality constraints dimension:\t0\n",
      "\tLower bounds: [1, -1000, 0, -500, -500,  ... ]\n",
      "\tUpper bounds: [200, 1000, 2000, 500, 500,  ... ]\n",
      "\tConstraints tolerance: [1e-08, 1e-08, 1e-08, 1e-08, 1e-08,  ... ]\n",
      "\n",
      "Number of individuals: 1\n",
      "\n",
      "List of individuals:\n",
      "#0:\n",
      "\tDecision vector:\t\t[30, 5, 1000, 5, 5,  ... ]\n",
      "\tVelocity vector:\t\t[-63.707980607341398, 921.85443641383813, -255.08445339923469, -80.528841114691829, 25.310257276306174,  ... ]\n",
      "\tConstraint vector:\t\t[0, 0, 0, 0, 0,  ... ]\n",
      "\tFitness vector:\t\t\t[-9900]\n",
      "\tBest decision vector:\t\t[30, 5, 1000, 5, 5,  ... ]\n",
      "\tBest constraint vector:\t\t[0, 0, 0, 0, 0,  ... ]\n",
      "\tBest fitness vector:\t\t[-9900]\n",
      "\tDominates:\t\t\t[]\n",
      "\tIs dominated by:\t\t0\tindividuals\n",
      "Champion:\n",
      "\tDecision vector:\t[30, 5, 1000, 5, 5,  ... ]\n",
      "\tConstraints vector:\t[0, 0, 0, 0, 0,  ... ]\n",
      "\tFitness vector:\t\t[-9900]\n",
      "\n",
      "\n"
     ]
    }
   ],
   "source": [
    "# Use PyGMO to optimise with the ballistic guess\n",
    "from PyGMO import *\n",
    "pop = population(Problem)\n",
    "pop.push_back(zguess)\n",
    "print pop"
   ]
  },
  {
   "cell_type": "code",
   "execution_count": 33,
   "metadata": {
    "collapsed": true
   },
   "outputs": [],
   "source": [
    "# Use a gradient based local optimiser with monotonic basin hopping\n",
    "algo = algorithm.scipy_slsqp(max_iter=4000, screen_output=True)\n",
    "algo = algorithm.mbh(algo, screen_output=True, stop=2)"
   ]
  },
  {
   "cell_type": "code",
   "execution_count": null,
   "metadata": {
    "collapsed": false
   },
   "outputs": [
    {
     "name": "stdout",
     "output_type": "stream",
     "text": [
      "  NIT    FC           OBJFUN            GNORM\n"
     ]
    }
   ],
   "source": [
    "# Evolve the ballistic trajectory into an optimal landing\n",
    "pop = algo.evolve(pop)"
   ]
  },
  {
   "cell_type": "code",
   "execution_count": 20,
   "metadata": {
    "collapsed": false
   },
   "outputs": [],
   "source": [
    "tf, cb, state, c = Problem.Decode(pop.champion.x)"
   ]
  },
  {
   "cell_type": "code",
   "execution_count": 23,
   "metadata": {
    "collapsed": false
   },
   "outputs": [
    {
     "data": {
      "text/plain": [
       "[<matplotlib.lines.Line2D at 0x7ff9a4703290>]"
      ]
     },
     "execution_count": 23,
     "metadata": {},
     "output_type": "execute_result"
    }
   ],
   "source": [
    "plt.plot(state[:,0], state[:,1], 'k.-')"
   ]
  },
  {
   "cell_type": "code",
   "execution_count": 24,
   "metadata": {
    "collapsed": false
   },
   "outputs": [
    {
     "data": {
      "image/png": "[encoded data removed]",
      "text/plain": [
       "<matplotlib.figure.Figure at 0x7ff9a0cee290>"
      ]
     },
     "metadata": {},
     "output_type": "display_data"
    }
   ],
   "source": [
    "plt.show()"
   ]
  },
  {
   "cell_type": "code",
   "execution_count": null,
   "metadata": {
    "collapsed": true
   },
   "outputs": [],
   "source": []
  }
 ],
 "metadata": {
  "kernelspec": {
   "display_name": "Python 2",
   "language": "python",
   "name": "python2"
  },
  "language_info": {
   "codemirror_mode": {
    "name": "ipython",
    "version": 2
   },
   "file_extension": ".py",
   "mimetype": "text/x-python",
   "name": "python",
   "nbconvert_exporter": "python",
   "pygments_lexer": "ipython2",
   "version": "2.7.12"
  }
 },
 "nbformat": 4,
 "nbformat_minor": 1
}
