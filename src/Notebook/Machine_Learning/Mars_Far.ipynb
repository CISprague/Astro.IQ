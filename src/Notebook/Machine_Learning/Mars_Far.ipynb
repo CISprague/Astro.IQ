{
 "cells": [
  {
   "cell_type": "code",
   "execution_count": 1,
   "metadata": {
    "collapsed": false
   },
   "outputs": [
    {
     "name": "stderr",
     "output_type": "stream",
     "text": [
      "/usr/lib/python2.7/dist-packages/matplotlib/__init__.py:874: UserWarning: axes.color_cycle is deprecated and replaced with axes.prop_cycle; please use the latter.\n",
      "  warnings.warn(self.msg_depr % (key, alt_key))\n"
     ]
    }
   ],
   "source": [
    "# We import resources\n",
    "import sys\n",
    "sys.path.append('../../')\n",
    "from numpy import *\n",
    "import seaborn as sns\n",
    "import pandas as pd\n",
    "import matplotlib.pyplot as plt\n",
    "from ML import MLP"
   ]
  },
  {
   "cell_type": "code",
   "execution_count": 2,
   "metadata": {
    "collapsed": false
   },
   "outputs": [],
   "source": [
    "# We load the data to be regressed\n",
    "data = load(\"../../Data/ML/Mars_Far.npy\")\n",
    "iin = [0,1,2,3,4]\n",
    "iout = [5,6]\n",
    "layers=[20, 20, 20, 20, 20]"
   ]
  },
  {
   "cell_type": "code",
   "execution_count": 3,
   "metadata": {
    "collapsed": false
   },
   "outputs": [],
   "source": [
    "# We instantiate a multilayer perceptron\n",
    "net = MLP('../../Data/ML/Nets/Mars_Far_20x5')\n",
    "net.build(data, iin, iout, layers)\n",
    "# See src/Scripts/Machine_Learning/Train_ixj_MLP.py"
   ]
  },
  {
   "cell_type": "code",
   "execution_count": 4,
   "metadata": {
    "collapsed": false
   },
   "outputs": [
    {
     "data": {
      "text/plain": [
       "array([[-57.4142189 , -68.35523987],\n",
       "       [-75.4185791 ,  40.77399826],\n",
       "       [ -9.07651043, -11.58412361],\n",
       "       [ 29.7215538 , -43.17697144]], dtype=float32)"
      ]
     },
     "execution_count": 4,
     "metadata": {},
     "output_type": "execute_result"
    }
   ],
   "source": [
    "dp = data[:4, iin]\n",
    "net.predict(dp)   # IT WORKSSSS YESSS!"
   ]
  }
 ],
 "metadata": {
  "kernelspec": {
   "display_name": "Python 2",
   "language": "python",
   "name": "python2"
  },
  "language_info": {
   "codemirror_mode": {
    "name": "ipython",
    "version": 2
   },
   "file_extension": ".py",
   "mimetype": "text/x-python",
   "name": "python",
   "nbconvert_exporter": "python",
   "pygments_lexer": "ipython2",
   "version": "2.7.12"
  }
 },
 "nbformat": 4,
 "nbformat_minor": 1
}
