{
 "cells": [
  {
   "cell_type": "code",
   "execution_count": 2,
   "metadata": {
    "collapsed": false
   },
   "outputs": [],
   "source": [
    "# We import resources\n",
    "import sys\n",
    "sys.path.append('../../')\n",
    "from numpy import *\n",
    "import seaborn as sns\n",
    "import pandas as pd\n",
    "import matplotlib.pyplot as plt\n",
    "from ML import MLP"
   ]
  },
  {
   "cell_type": "code",
   "execution_count": 3,
   "metadata": {
    "collapsed": true
   },
   "outputs": [],
   "source": [
    "# We load the data to be regressed\n",
    "data = load(\"../../Data/ML/Mars_Far.npy\")"
   ]
  },
  {
   "cell_type": "code",
   "execution_count": 4,
   "metadata": {
    "collapsed": false
   },
   "outputs": [
    {
     "data": {
      "text/plain": [
       "array([[ -3.00320255e+03,   3.61003014e+03,  -7.55395321e+01, ...,\n",
       "          1.00000000e+00,   4.47346707e-01,   0.00000000e+00],\n",
       "       [ -3.31868672e+03,   3.20116687e+03,  -2.34196818e+01, ...,\n",
       "          1.00000000e+00,   5.49041059e-01,   7.04134258e+00],\n",
       "       [ -3.30901322e+03,   2.84284146e+03,   2.58481231e+01, ...,\n",
       "          1.00000000e+00,   6.76690964e-01,   1.40826852e+01],\n",
       "       ..., \n",
       "       [ -2.76973127e+02,   2.16636676e+02,   5.64708684e+01, ...,\n",
       "          1.00000000e+00,   2.06804330e+00,   7.05654878e+01],\n",
       "       [ -1.03474940e+02,   7.62172113e+01,   3.59689284e+01, ...,\n",
       "          1.00000000e+00,   2.15302251e+00,   7.44857927e+01],\n",
       "       [ -1.18978077e+01,   8.27973773e+00,   1.26398369e+01, ...,\n",
       "          1.00000000e+00,   2.22705426e+00,   7.84060976e+01]])"
      ]
     },
     "execution_count": 4,
     "metadata": {},
     "output_type": "execute_result"
    }
   ],
   "source": [
    "# We instantiate a multilayer perceptron\n",
    "net = MLP('Mars_Far_')"
   ]
  },
  {
   "cell_type": "code",
   "execution_count": null,
   "metadata": {
    "collapsed": true
   },
   "outputs": [],
   "source": []
  }
 ],
 "metadata": {
  "kernelspec": {
   "display_name": "Python 2",
   "language": "python",
   "name": "python2"
  },
  "language_info": {
   "codemirror_mode": {
    "name": "ipython",
    "version": 2
   },
   "file_extension": ".py",
   "mimetype": "text/x-python",
   "name": "python",
   "nbconvert_exporter": "python",
   "pygments_lexer": "ipython2",
   "version": "2.7.12"
  }
 },
 "nbformat": 4,
 "nbformat_minor": 1
}
