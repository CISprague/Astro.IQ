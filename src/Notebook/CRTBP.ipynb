{
 "cells": [
  {
   "cell_type": "markdown",
   "metadata": {},
   "source": [
    "# Circular Restricted Three Body Problem Derrivation\n",
    "*SymPy* is usefull for:\n",
    "1) Derriving the full equations of motion\n",
    "2) Optimizing code through common subexpression elimination\n",
    "3) Generating complicated $\\LaTeX$ expressions. *SymPy* is **open-source**."
   ]
  },
  {
   "cell_type": "code",
   "execution_count": 1,
   "metadata": {
    "collapsed": true
   },
   "outputs": [],
   "source": [
    "from sympy import *"
   ]
  },
  {
   "cell_type": "code",
   "execution_count": 2,
   "metadata": {
    "collapsed": false
   },
   "outputs": [],
   "source": [
    "# State\n",
    "x, y, z, vx, vy, vz, m = symbols('x y z vx vy vz m')\n",
    "r                      = Matrix([x, y, z])\n",
    "v                      = Matrix([vx, vy, vz])\n",
    "s                      = Matrix([r, v, [m]])\n",
    "\n",
    "# Costate\n",
    "lx, ly, lz, lvx, lvy, lvz, lm = symbols('lx ly lz lvx lvy lvz lm')\n",
    "lr                            = Matrix([lx, ly, lz])\n",
    "lv                            = Matrix([lvx, lvy, lvz])\n",
    "l                             = Matrix([lr, lv, [lm]])\n",
    "\n",
    "# Full State\n",
    "fs = Matrix([s, l])\n",
    "\n",
    "# Controls\n",
    "u, ax, ay, az = symbols('u ax ay az')\n",
    "a             = Matrix([ax, ay, az])\n",
    "cont          = Matrix([[u], a])\n",
    "\n",
    "# Parameters\n",
    "Isp, g0, mu, T, eps = symbols('Isp g0 mu T eps')\n",
    "c                   = Isp*g0"
   ]
  },
  {
   "cell_type": "code",
   "execution_count": 3,
   "metadata": {
    "collapsed": false
   },
   "outputs": [],
   "source": [
    "# Intermediates\n",
    "r1 = sqrt((x + mu)**2 + y**2 + z**2)\n",
    "r2 = sqrt((x + mu -1)**2 + y**2 + z**2)"
   ]
  },
  {
   "cell_type": "code",
   "execution_count": 4,
   "metadata": {
    "collapsed": false
   },
   "outputs": [],
   "source": [
    "# Position Dependence\n",
    "g = Matrix([\n",
    "        x - (1 - mu)*(x + mu)/r1**3 - mu*(x + mu - 1)/r2**3,\n",
    "        y - (1 - mu)*y/r1**3 - mu*y/r2**3,\n",
    "        -(1 - mu)*z/r1**3 - mu*z/r2**3\n",
    "    ])\n",
    "# Velocity Dependence\n",
    "h = Matrix([2*vy, -2*vx, 0])"
   ]
  },
  {
   "cell_type": "code",
   "execution_count": 5,
   "metadata": {
    "collapsed": false
   },
   "outputs": [],
   "source": [
    "# State Equations of Motion\n",
    "ds = Matrix([v, g + h + u*T*a/m, [-u*T/c]])"
   ]
  },
  {
   "cell_type": "code",
   "execution_count": null,
   "metadata": {
    "collapsed": true,
    "scrolled": true
   },
   "outputs": [],
   "source": [
    "# Homotopic Cost Lagrangian\n",
    "L = T*(u - eps*u*(1 - u))/c"
   ]
  },
  {
   "cell_type": "code",
   "execution_count": null,
   "metadata": {
    "collapsed": false
   },
   "outputs": [],
   "source": [
    "# Hamiltonian\n",
    "Hamiltonian = l.dot(ds) + L"
   ]
  },
  {
   "cell_type": "code",
   "execution_count": null,
   "metadata": {
    "collapsed": false
   },
   "outputs": [],
   "source": [
    "# Location Dependence Derrivative\n",
    "G = g.jacobian(r)\n",
    "# Velocity Dependence Derrivative\n",
    "H = h.jacobian(v)"
   ]
  },
  {
   "cell_type": "code",
   "execution_count": null,
   "metadata": {
    "collapsed": false
   },
   "outputs": [],
   "source": [
    "# Costate Equations of Motion\n",
    "dl = -Matrix([Hamiltonian.diff(i) for i in s])"
   ]
  },
  {
   "cell_type": "code",
   "execution_count": null,
   "metadata": {
    "collapsed": false
   },
   "outputs": [],
   "source": [
    "# Fullstate Equations of Motion\n",
    "dfs = Matrix([ds, dl])"
   ]
  },
  {
   "cell_type": "code",
   "execution_count": null,
   "metadata": {
    "collapsed": false
   },
   "outputs": [],
   "source": [
    "# Switching Function\n",
    "S = -lv.norm()*c/m - lm + 1"
   ]
  },
  {
   "cell_type": "code",
   "execution_count": null,
   "metadata": {
    "collapsed": false
   },
   "outputs": [],
   "source": [
    "# Optimal Thrust Direction\n",
    "aopt = -lv.normalized()"
   ]
  },
  {
   "cell_type": "code",
   "execution_count": null,
   "metadata": {
    "collapsed": false
   },
   "outputs": [],
   "source": [
    "# Derrivative of Fullstate\n",
    "ddfs = dfs.jacobian(fs)"
   ]
  },
  {
   "cell_type": "markdown",
   "metadata": {},
   "source": [
    "# Implementation\n",
    "Initialisation parameters sourced from [*Low-Thrust Minimum Fuel Optimization in the\n",
    "Circular Restricted Three-Body Problem* (Zhang et. al.)](https://home.aero.polimi.it/topputo/data/uploads/papers/articles/article-2015-2.pdf)\n",
    "\n",
    "The nonlinear programming problem's decision vector is\n",
    "$$ [t_f, \\lambda_x(t_i), \\lambda_y(t_i), \\lambda_z(t_i), \\lambda_{v_x}(t_i), \\lambda_{v_y}(t_i), \\lambda_{v_z}(t_i), \\lambda_m(t_i)] $$"
   ]
  },
  {
   "cell_type": "code",
   "execution_count": 1,
   "metadata": {
    "collapsed": false
   },
   "outputs": [],
   "source": [
    "import sys\n",
    "sys.path.append('../')\n",
    "from trajectory.space import CRTBP\n",
    "from numpy import *\n",
    "from PyGMO import *"
   ]
  },
  {
   "cell_type": "code",
   "execution_count": 2,
   "metadata": {
    "collapsed": true
   },
   "outputs": [],
   "source": [
    "# Parameters\n",
    "mu  = 1.21506683e-2 # Gravitational parameter\n",
    "T   = 10. # Maximum thrust [N]\n",
    "Isp = 2000. # Specific impulse\n",
    "eps = 1. # Homotopy paramter (energy-minimisation)"
   ]
  },
  {
   "cell_type": "code",
   "execution_count": 3,
   "metadata": {
    "collapsed": false
   },
   "outputs": [],
   "source": [
    "# Initial state\n",
    "si = array([-0.019488511458668, -0.016033479812051, 0,\n",
    "            8.918881923678198, -4.081793688818725, 0,\n",
    "            1000], float)\n",
    "# Target state\n",
    "st = array([0.823385182067467, 0, -0.022277556273235,\n",
    "            0, 0.134184170262437, 0,\n",
    "            1000], float)\n",
    "# Decision variable guess\n",
    "di = array([8.6,                            # Time of flight [days]\n",
    "            5.616017, 32.875896, -0.094522, # Position costates\n",
    "            -0.101606, 0.044791, -0.000150, # Velocity costates\n",
    "            0.133266], float)               # Mass costate"
   ]
  },
  {
   "cell_type": "code",
   "execution_count": 4,
   "metadata": {
    "collapsed": false
   },
   "outputs": [],
   "source": [
    "# Intialise the problem\n",
    "prob = CRTBP(mu, T, Isp, eps, si, st)"
   ]
  },
  {
   "cell_type": "code",
   "execution_count": 5,
   "metadata": {
    "collapsed": false
   },
   "outputs": [],
   "source": [
    "algo = algorithm.scipy_slsqp(max_iter=20, screen_output=True)\n",
    "algo = algorithm.mbh(algo, screen_output=True)"
   ]
  },
  {
   "cell_type": "code",
   "execution_count": null,
   "metadata": {
    "collapsed": false
   },
   "outputs": [
    {
     "name": "stderr",
     "output_type": "stream",
     "text": [
      "/usr/lib/python2.7/dist-packages/scipy/integrate/_ode.py:1035: UserWarning: dop853: larger nmax is needed\n",
      "  self.messages.get(idid, 'Unexpected idid=%s' % idid))\n"
     ]
    }
   ],
   "source": [
    "pop = population(prob, 1)"
   ]
  },
  {
   "cell_type": "code",
   "execution_count": null,
   "metadata": {
    "collapsed": true
   },
   "outputs": [],
   "source": []
  }
 ],
 "metadata": {
  "kernelspec": {
   "display_name": "Python 2",
   "language": "python",
   "name": "python2"
  },
  "language_info": {
   "codemirror_mode": {
    "name": "ipython",
    "version": 2
   },
   "file_extension": ".py",
   "mimetype": "text/x-python",
   "name": "python",
   "nbconvert_exporter": "python",
   "pygments_lexer": "ipython2",
   "version": "2.7.12"
  }
 },
 "nbformat": 4,
 "nbformat_minor": 1
}
